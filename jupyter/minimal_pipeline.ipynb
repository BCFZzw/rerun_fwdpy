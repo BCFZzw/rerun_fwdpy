{
 "cells": [
  {
   "cell_type": "code",
   "execution_count": 1,
   "id": "b6507bdb-3d0f-45de-a47a-8d1f3717e76a",
   "metadata": {},
   "outputs": [],
   "source": [
    "import pandas as pd\n",
    "import numpy as np\n",
    "import allel\n",
    "import moments.LD"
   ]
  },
  {
   "cell_type": "markdown",
   "id": "6a238ae4-ae59-46a7-9097-ac7b28866b37",
   "metadata": {
    "tags": []
   },
   "source": [
    "### Preprocessing of 1000G VCF files\n",
    "1. Apply strict mask\n",
    "    - Some sites are not reliably mapped in hg38 and needs to be excluded.\n",
    "    - These regions include: repeat regions, pseudogenes, centromeric, and telomeric regions.\n",
    "2. Select only biallelic SNP sites\n",
    "    - A VCF can contain mult-allelic SNPs and structure variants (indels, tandem repeats, etc)\n",
    "    - The biallelic SNP sites are the easiest to work with, and most studies focus on them. \n",
    "\n",
    "\n",
    "\n",
    "This process can take quite a long time, I saved the processed VCFs under ~/projects/ctb-sgravel/data/30x1000G_biallelic_strict_masked <br>\n",
    "The example preprocessing script is provided below and also in the directory's README.md."
   ]
  },
  {
   "cell_type": "code",
   "execution_count": null,
   "id": "fabc073e-9fcf-454f-b7fa-beae6df4e553",
   "metadata": {},
   "outputs": [],
   "source": [
    "%%sh\n",
    "### in bash, preprocess using bcftools\n",
    "### replace variable path\n",
    "chr22_vcf_path='/home/alouette/projects/ctb-sgravel/data/1000G/20201028_CCDG_14151_B01_GRM_WGS_2020-08-05_chr22.recalibrated_variants.vcf.gz'\n",
    "strict_mask_1000G='/home/alouette/projects/ctb-sgravel/data/1000G/masks_and_annotations/20160622.allChr.mask.bed'\n",
    "IntegerT=6\n",
    "module load bcftools\n",
    "bcftools --version | head -1\n",
    "### -Oz output compressed VCF format\n",
    "### -m2 -M2 -v to only view biallellic SNPs\n",
    "### -R subset VCF from region bed file\n",
    "### --threads parallelization currently only works for compression\n",
    "bcftools view -Oz -m2 -M2 -v snps -R ${strict_mask_1000G} ${chr22_vcf_path} --threads ${IntegerT} -o \"chr22.strict_masked.vcf.gz\""
   ]
  },
  {
   "cell_type": "markdown",
   "id": "2dcbc011-e194-4fcd-bdc7-9927a96b14c9",
   "metadata": {},
   "source": [
    "bcftools manual: http://samtools.github.io/bcftools/bcftools.html#expressions"
   ]
  },
  {
   "cell_type": "markdown",
   "id": "48adfd5e-cff0-4e8f-a1c4-aae77d6211c0",
   "metadata": {
    "tags": []
   },
   "source": [
    "### Optional: covert the VCF to zarr format for faster retrieval in scikit-allele\n",
    "In sgkit, there might be better approaches. <br>\n",
    "I also completed this step and stored the output in ~/projects/ctb-sgravel/data/30x1000G_biallelic_strict_masked/zarrFormat"
   ]
  },
  {
   "cell_type": "markdown",
   "id": "95655f44-4122-4ce3-9002-624dd19d5e6b",
   "metadata": {},
   "source": [
    "### Population information retrieval"
   ]
  },
  {
   "cell_type": "markdown",
   "id": "69f0f1a0-dede-4454-a5c1-dda92d3961e8",
   "metadata": {},
   "source": [
    "### Formatting the recombination map for pipeline\n",
    "Several recombination maps exist for the human population. Each is computed using specific populations and with specific techniques."
   ]
  },
  {
   "cell_type": "markdown",
   "id": "0c33ad72-636e-46a1-bfc1-8e2a9916c4c6",
   "metadata": {},
   "source": [
    "### Minimal example pipeline: EDAR region in chr2:107,500,000-110,000,000\n",
    "EDAR is an identified sweep in the EAS population."
   ]
  },
  {
   "cell_type": "code",
   "execution_count": null,
   "id": "6e3e46f3-5590-4f6c-9c9b-3b5e3248d691",
   "metadata": {},
   "outputs": [],
   "source": [
    "%%sh\n",
    "chr2_vcf_path='/home/alouette/projects/ctb-sgravel/data/1000G/20201028_CCDG_14151_B01_GRM_WGS_2020-08-05_chr2.recalibrated_variants.vcf.gz'\n",
    "strict_mask_1000G='/home/alouette/projects/ctb-sgravel/data/1000G/masks_and_annotations/20160622.allChr.mask.bed'\n",
    "IntegerT=6\n",
    "module load bcftools\n",
    "### takes 6 min\n",
    "bcftools view -Oz -m2 -M2 -v snps -r chr2:107500000-110000000 ${chr2_vcf_path} --threads ${IntegerT} -o \"chr2.EDAR_region.vcf.gz\"\n",
    "bcftools index --threads ${IntegerT} \"chr2.EDAR_region.vcf.gz\"\n",
    "### takes 3 min\n",
    "bcftools view -Oz -R ${strict_mask_1000G} \"chr2.EDAR_region.vcf.gz\" --threads ${IntegerT} -o \"chr2.EDAR_region.strict_mask.vcf.gz\""
   ]
  }
 ],
 "metadata": {
  "kernelspec": {
   "display_name": "Fwdpy Sweep Kernel",
   "language": "python",
   "name": "sweep"
  },
  "language_info": {
   "codemirror_mode": {
    "name": "ipython",
    "version": 3
   },
   "file_extension": ".py",
   "mimetype": "text/x-python",
   "name": "python",
   "nbconvert_exporter": "python",
   "pygments_lexer": "ipython3",
   "version": "3.8.10"
  }
 },
 "nbformat": 4,
 "nbformat_minor": 5
}

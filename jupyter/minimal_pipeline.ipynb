{
 "cells": [
  {
   "cell_type": "code",
   "execution_count": 1,
   "id": "b6507bdb-3d0f-45de-a47a-8d1f3717e76a",
   "metadata": {},
   "outputs": [
    {
     "ename": "SystemError",
     "evalue": "initialization of _internal failed without raising an exception",
     "output_type": "error",
     "traceback": [
      "\u001b[0;31m---------------------------------------------------------------------------\u001b[0m",
      "\u001b[0;31mSystemError\u001b[0m                               Traceback (most recent call last)",
      "Input \u001b[0;32mIn [1]\u001b[0m, in \u001b[0;36m<cell line: 3>\u001b[0;34m()\u001b[0m\n\u001b[1;32m      1\u001b[0m \u001b[38;5;28;01mimport\u001b[39;00m \u001b[38;5;21;01mpandas\u001b[39;00m \u001b[38;5;28;01mas\u001b[39;00m \u001b[38;5;21;01mpd\u001b[39;00m\n\u001b[1;32m      2\u001b[0m \u001b[38;5;28;01mimport\u001b[39;00m \u001b[38;5;21;01mnumpy\u001b[39;00m \u001b[38;5;28;01mas\u001b[39;00m \u001b[38;5;21;01mnp\u001b[39;00m\n\u001b[0;32m----> 3\u001b[0m \u001b[38;5;28;01mimport\u001b[39;00m \u001b[38;5;21;01mallel\u001b[39;00m\n\u001b[1;32m      4\u001b[0m \u001b[38;5;28;01mimport\u001b[39;00m \u001b[38;5;21;01msgkit\u001b[39;00m \u001b[38;5;28;01mas\u001b[39;00m \u001b[38;5;21;01msg\u001b[39;00m\n\u001b[1;32m      5\u001b[0m \u001b[38;5;28;01mimport\u001b[39;00m \u001b[38;5;21;01mmoments\u001b[39;00m\u001b[38;5;21;01m.\u001b[39;00m\u001b[38;5;21;01mLD\u001b[39;00m\n",
      "File \u001b[0;32m/lustre06/project/6068353/alouette/fwdpy_sweep/lib/python3.8/site-packages/allel/__init__.py:12\u001b[0m, in \u001b[0;36m<module>\u001b[0;34m\u001b[0m\n\u001b[1;32m     10\u001b[0m     \u001b[38;5;28;01mpass\u001b[39;00m\n\u001b[1;32m     11\u001b[0m \u001b[38;5;28;01melse\u001b[39;00m:\n\u001b[0;32m---> 12\u001b[0m     \u001b[38;5;28;01mfrom\u001b[39;00m \u001b[38;5;21;01m.\u001b[39;00m\u001b[38;5;21;01mmodel\u001b[39;00m\u001b[38;5;21;01m.\u001b[39;00m\u001b[38;5;21;01mdask\u001b[39;00m \u001b[38;5;28;01mimport\u001b[39;00m \u001b[38;5;241m*\u001b[39m\n\u001b[1;32m     14\u001b[0m \u001b[38;5;28;01mfrom\u001b[39;00m \u001b[38;5;21;01m.\u001b[39;00m\u001b[38;5;21;01mstats\u001b[39;00m\u001b[38;5;21;01m.\u001b[39;00m\u001b[38;5;21;01mwindow\u001b[39;00m \u001b[38;5;28;01mimport\u001b[39;00m moving_statistic, windowed_count, \\\n\u001b[1;32m     15\u001b[0m     windowed_statistic, per_base, equally_accessible_windows, moving_mean, \\\n\u001b[1;32m     16\u001b[0m     moving_std, moving_midpoint, index_windows, position_windows, window_locations\n\u001b[1;32m     18\u001b[0m \u001b[38;5;28;01mfrom\u001b[39;00m \u001b[38;5;21;01m.\u001b[39;00m\u001b[38;5;21;01mstats\u001b[39;00m\u001b[38;5;21;01m.\u001b[39;00m\u001b[38;5;21;01mdiversity\u001b[39;00m \u001b[38;5;28;01mimport\u001b[39;00m mean_pairwise_difference, \\\n\u001b[1;32m     19\u001b[0m     sequence_diversity, windowed_diversity, mean_pairwise_difference_between, \\\n\u001b[1;32m     20\u001b[0m     sequence_divergence, windowed_divergence, windowed_df, watterson_theta, \\\n\u001b[1;32m     21\u001b[0m     windowed_watterson_theta, tajima_d, windowed_tajima_d, moving_tajima_d\n",
      "File \u001b[0;32m/lustre06/project/6068353/alouette/fwdpy_sweep/lib/python3.8/site-packages/allel/model/dask.py:21\u001b[0m, in \u001b[0;36m<module>\u001b[0;34m\u001b[0m\n\u001b[1;32m      2\u001b[0m \u001b[38;5;124;03m\"\"\"This module provides alternative implementations of array\u001b[39;00m\n\u001b[1;32m      3\u001b[0m \u001b[38;5;124;03mclasses defined in the :mod:`allel.model.ndarray` module, using\u001b[39;00m\n\u001b[1;32m      4\u001b[0m \u001b[38;5;124;03m`dask.array <http://dask.pydata.org/en/latest/array.html>`_ as the\u001b[39;00m\n\u001b[0;32m   (...)\u001b[0m\n\u001b[1;32m     18\u001b[0m \n\u001b[1;32m     19\u001b[0m \u001b[38;5;124;03m\"\"\"\u001b[39;00m\n\u001b[1;32m     20\u001b[0m \u001b[38;5;28;01mimport\u001b[39;00m \u001b[38;5;21;01mnumpy\u001b[39;00m \u001b[38;5;28;01mas\u001b[39;00m \u001b[38;5;21;01mnp\u001b[39;00m\n\u001b[0;32m---> 21\u001b[0m \u001b[38;5;28;01mimport\u001b[39;00m \u001b[38;5;21;01mdask\u001b[39;00m\u001b[38;5;21;01m.\u001b[39;00m\u001b[38;5;21;01marray\u001b[39;00m \u001b[38;5;28;01mas\u001b[39;00m \u001b[38;5;21;01mda\u001b[39;00m\n\u001b[1;32m     24\u001b[0m \u001b[38;5;28;01mfrom\u001b[39;00m \u001b[38;5;21;01mallel\u001b[39;00m\u001b[38;5;21;01m.\u001b[39;00m\u001b[38;5;21;01mutil\u001b[39;00m \u001b[38;5;28;01mimport\u001b[39;00m check_shape, check_dtype, check_ndim, check_integer_dtype, \\\n\u001b[1;32m     25\u001b[0m     asarray_ndim\n\u001b[1;32m     26\u001b[0m \u001b[38;5;28;01mfrom\u001b[39;00m \u001b[38;5;21;01mallel\u001b[39;00m\u001b[38;5;21;01m.\u001b[39;00m\u001b[38;5;21;01mabc\u001b[39;00m \u001b[38;5;28;01mimport\u001b[39;00m ArrayWrapper, DisplayAs2D, DisplayAs1D\n",
      "File \u001b[0;32m/lustre06/project/6068353/alouette/fwdpy_sweep/lib/python3.8/site-packages/dask/array/__init__.py:2\u001b[0m, in \u001b[0;36m<module>\u001b[0;34m\u001b[0m\n\u001b[1;32m      1\u001b[0m \u001b[38;5;28;01mtry\u001b[39;00m:\n\u001b[0;32m----> 2\u001b[0m     \u001b[38;5;28;01mfrom\u001b[39;00m \u001b[38;5;21;01mdask\u001b[39;00m\u001b[38;5;21;01m.\u001b[39;00m\u001b[38;5;21;01marray\u001b[39;00m \u001b[38;5;28;01mimport\u001b[39;00m backends, fft, lib, linalg, ma, overlap, random\n\u001b[1;32m      3\u001b[0m     \u001b[38;5;28;01mfrom\u001b[39;00m \u001b[38;5;21;01mdask\u001b[39;00m\u001b[38;5;21;01m.\u001b[39;00m\u001b[38;5;21;01marray\u001b[39;00m\u001b[38;5;21;01m.\u001b[39;00m\u001b[38;5;21;01mblockwise\u001b[39;00m \u001b[38;5;28;01mimport\u001b[39;00m atop, blockwise\n\u001b[1;32m      4\u001b[0m     \u001b[38;5;28;01mfrom\u001b[39;00m \u001b[38;5;21;01mdask\u001b[39;00m\u001b[38;5;21;01m.\u001b[39;00m\u001b[38;5;21;01marray\u001b[39;00m\u001b[38;5;21;01m.\u001b[39;00m\u001b[38;5;21;01mchunk_types\u001b[39;00m \u001b[38;5;28;01mimport\u001b[39;00m register_chunk_type\n",
      "File \u001b[0;32m/lustre06/project/6068353/alouette/fwdpy_sweep/lib/python3.8/site-packages/dask/array/backends.py:6\u001b[0m, in \u001b[0;36m<module>\u001b[0;34m\u001b[0m\n\u001b[1;32m      3\u001b[0m \u001b[38;5;28;01mimport\u001b[39;00m \u001b[38;5;21;01mnumpy\u001b[39;00m \u001b[38;5;28;01mas\u001b[39;00m \u001b[38;5;21;01mnp\u001b[39;00m\n\u001b[1;32m      5\u001b[0m \u001b[38;5;28;01mfrom\u001b[39;00m \u001b[38;5;21;01mdask\u001b[39;00m\u001b[38;5;21;01m.\u001b[39;00m\u001b[38;5;21;01marray\u001b[39;00m \u001b[38;5;28;01mimport\u001b[39;00m chunk\n\u001b[0;32m----> 6\u001b[0m \u001b[38;5;28;01mfrom\u001b[39;00m \u001b[38;5;21;01mdask\u001b[39;00m\u001b[38;5;21;01m.\u001b[39;00m\u001b[38;5;21;01marray\u001b[39;00m\u001b[38;5;21;01m.\u001b[39;00m\u001b[38;5;21;01mcore\u001b[39;00m \u001b[38;5;28;01mimport\u001b[39;00m Array\n\u001b[1;32m      7\u001b[0m \u001b[38;5;28;01mfrom\u001b[39;00m \u001b[38;5;21;01mdask\u001b[39;00m\u001b[38;5;21;01m.\u001b[39;00m\u001b[38;5;21;01marray\u001b[39;00m\u001b[38;5;21;01m.\u001b[39;00m\u001b[38;5;21;01mdispatch\u001b[39;00m \u001b[38;5;28;01mimport\u001b[39;00m (\n\u001b[1;32m      8\u001b[0m     concatenate_lookup,\n\u001b[1;32m      9\u001b[0m     divide_lookup,\n\u001b[0;32m   (...)\u001b[0m\n\u001b[1;32m     17\u001b[0m     to_numpy_dispatch,\n\u001b[1;32m     18\u001b[0m )\n\u001b[1;32m     19\u001b[0m \u001b[38;5;28;01mfrom\u001b[39;00m \u001b[38;5;21;01mdask\u001b[39;00m\u001b[38;5;21;01m.\u001b[39;00m\u001b[38;5;21;01marray\u001b[39;00m\u001b[38;5;21;01m.\u001b[39;00m\u001b[38;5;21;01mnumpy_compat\u001b[39;00m \u001b[38;5;28;01mimport\u001b[39;00m divide \u001b[38;5;28;01mas\u001b[39;00m np_divide\n",
      "File \u001b[0;32m/lustre06/project/6068353/alouette/fwdpy_sweep/lib/python3.8/site-packages/dask/array/core.py:37\u001b[0m, in \u001b[0;36m<module>\u001b[0;34m\u001b[0m\n\u001b[1;32m     35\u001b[0m \u001b[38;5;28;01mfrom\u001b[39;00m \u001b[38;5;21;01mdask\u001b[39;00m\u001b[38;5;21;01m.\u001b[39;00m\u001b[38;5;21;01marray\u001b[39;00m \u001b[38;5;28;01mimport\u001b[39;00m chunk\n\u001b[1;32m     36\u001b[0m \u001b[38;5;28;01mfrom\u001b[39;00m \u001b[38;5;21;01mdask\u001b[39;00m\u001b[38;5;21;01m.\u001b[39;00m\u001b[38;5;21;01marray\u001b[39;00m\u001b[38;5;21;01m.\u001b[39;00m\u001b[38;5;21;01mchunk\u001b[39;00m \u001b[38;5;28;01mimport\u001b[39;00m getitem\n\u001b[0;32m---> 37\u001b[0m \u001b[38;5;28;01mfrom\u001b[39;00m \u001b[38;5;21;01mdask\u001b[39;00m\u001b[38;5;21;01m.\u001b[39;00m\u001b[38;5;21;01marray\u001b[39;00m\u001b[38;5;21;01m.\u001b[39;00m\u001b[38;5;21;01mchunk_types\u001b[39;00m \u001b[38;5;28;01mimport\u001b[39;00m is_valid_array_chunk, is_valid_chunk_type\n\u001b[1;32m     39\u001b[0m \u001b[38;5;66;03m# Keep einsum_lookup and tensordot_lookup here for backwards compatibility\u001b[39;00m\n\u001b[1;32m     40\u001b[0m \u001b[38;5;28;01mfrom\u001b[39;00m \u001b[38;5;21;01mdask\u001b[39;00m\u001b[38;5;21;01m.\u001b[39;00m\u001b[38;5;21;01marray\u001b[39;00m\u001b[38;5;21;01m.\u001b[39;00m\u001b[38;5;21;01mdispatch\u001b[39;00m \u001b[38;5;28;01mimport\u001b[39;00m (  \u001b[38;5;66;03m# noqa: F401\u001b[39;00m\n\u001b[1;32m     41\u001b[0m     concatenate_lookup,\n\u001b[1;32m     42\u001b[0m     einsum_lookup,\n\u001b[1;32m     43\u001b[0m     tensordot_lookup,\n\u001b[1;32m     44\u001b[0m )\n",
      "File \u001b[0;32m/lustre06/project/6068353/alouette/fwdpy_sweep/lib/python3.8/site-packages/dask/array/chunk_types.py:122\u001b[0m, in \u001b[0;36m<module>\u001b[0;34m\u001b[0m\n\u001b[1;32m    119\u001b[0m     \u001b[38;5;28;01mpass\u001b[39;00m\n\u001b[1;32m    121\u001b[0m \u001b[38;5;28;01mtry\u001b[39;00m:\n\u001b[0;32m--> 122\u001b[0m     \u001b[38;5;28;01mimport\u001b[39;00m \u001b[38;5;21;01msparse\u001b[39;00m\n\u001b[1;32m    124\u001b[0m     register_chunk_type(sparse\u001b[38;5;241m.\u001b[39mSparseArray)\n\u001b[1;32m    125\u001b[0m \u001b[38;5;28;01mexcept\u001b[39;00m \u001b[38;5;167;01mImportError\u001b[39;00m:\n",
      "File \u001b[0;32m/lustre06/project/6068353/alouette/fwdpy_sweep/lib/python3.8/site-packages/sparse/__init__.py:1\u001b[0m, in \u001b[0;36m<module>\u001b[0;34m\u001b[0m\n\u001b[0;32m----> 1\u001b[0m \u001b[38;5;28;01mfrom\u001b[39;00m \u001b[38;5;21;01m.\u001b[39;00m\u001b[38;5;21;01m_coo\u001b[39;00m \u001b[38;5;28;01mimport\u001b[39;00m COO, as_coo\n\u001b[1;32m      2\u001b[0m \u001b[38;5;28;01mfrom\u001b[39;00m \u001b[38;5;21;01m.\u001b[39;00m\u001b[38;5;21;01m_compressed\u001b[39;00m \u001b[38;5;28;01mimport\u001b[39;00m GCXS\n\u001b[1;32m      3\u001b[0m \u001b[38;5;28;01mfrom\u001b[39;00m \u001b[38;5;21;01m.\u001b[39;00m\u001b[38;5;21;01m_dok\u001b[39;00m \u001b[38;5;28;01mimport\u001b[39;00m DOK\n",
      "File \u001b[0;32m/lustre06/project/6068353/alouette/fwdpy_sweep/lib/python3.8/site-packages/sparse/_coo/__init__.py:1\u001b[0m, in \u001b[0;36m<module>\u001b[0;34m\u001b[0m\n\u001b[0;32m----> 1\u001b[0m \u001b[38;5;28;01mfrom\u001b[39;00m \u001b[38;5;21;01m.\u001b[39;00m\u001b[38;5;21;01mcore\u001b[39;00m \u001b[38;5;28;01mimport\u001b[39;00m COO, as_coo\n\u001b[1;32m      2\u001b[0m \u001b[38;5;28;01mfrom\u001b[39;00m \u001b[38;5;21;01m.\u001b[39;00m\u001b[38;5;21;01mcommon\u001b[39;00m \u001b[38;5;28;01mimport\u001b[39;00m (\n\u001b[1;32m      3\u001b[0m     concatenate,\n\u001b[1;32m      4\u001b[0m     clip,\n\u001b[0;32m   (...)\u001b[0m\n\u001b[1;32m     22\u001b[0m     diagonalize,\n\u001b[1;32m     23\u001b[0m )\n\u001b[1;32m     25\u001b[0m __all__ \u001b[38;5;241m=\u001b[39m [\n\u001b[1;32m     26\u001b[0m     \u001b[38;5;124m\"\u001b[39m\u001b[38;5;124mCOO\u001b[39m\u001b[38;5;124m\"\u001b[39m,\n\u001b[1;32m     27\u001b[0m     \u001b[38;5;124m\"\u001b[39m\u001b[38;5;124mas_coo\u001b[39m\u001b[38;5;124m\"\u001b[39m,\n\u001b[0;32m   (...)\u001b[0m\n\u001b[1;32m     47\u001b[0m     \u001b[38;5;124m\"\u001b[39m\u001b[38;5;124mdiagonalize\u001b[39m\u001b[38;5;124m\"\u001b[39m,\n\u001b[1;32m     48\u001b[0m ]\n",
      "File \u001b[0;32m/lustre06/project/6068353/alouette/fwdpy_sweep/lib/python3.8/site-packages/sparse/_coo/core.py:9\u001b[0m, in \u001b[0;36m<module>\u001b[0;34m\u001b[0m\n\u001b[1;32m      6\u001b[0m \u001b[38;5;28;01mimport\u001b[39;00m \u001b[38;5;21;01mwarnings\u001b[39;00m\n\u001b[1;32m      8\u001b[0m \u001b[38;5;28;01mimport\u001b[39;00m \u001b[38;5;21;01mnumpy\u001b[39;00m \u001b[38;5;28;01mas\u001b[39;00m \u001b[38;5;21;01mnp\u001b[39;00m\n\u001b[0;32m----> 9\u001b[0m \u001b[38;5;28;01mimport\u001b[39;00m \u001b[38;5;21;01mnumba\u001b[39;00m\n\u001b[1;32m     10\u001b[0m \u001b[38;5;28;01mimport\u001b[39;00m \u001b[38;5;21;01mscipy\u001b[39;00m\u001b[38;5;21;01m.\u001b[39;00m\u001b[38;5;21;01msparse\u001b[39;00m\n\u001b[1;32m     11\u001b[0m \u001b[38;5;28;01mfrom\u001b[39;00m \u001b[38;5;21;01mnumpy\u001b[39;00m\u001b[38;5;21;01m.\u001b[39;00m\u001b[38;5;21;01mlib\u001b[39;00m\u001b[38;5;21;01m.\u001b[39;00m\u001b[38;5;21;01mmixins\u001b[39;00m \u001b[38;5;28;01mimport\u001b[39;00m NDArrayOperatorsMixin\n",
      "File \u001b[0;32m/lustre06/project/6068353/alouette/fwdpy_sweep/lib/python3.8/site-packages/numba/__init__.py:43\u001b[0m, in \u001b[0;36m<module>\u001b[0;34m\u001b[0m\n\u001b[1;32m     39\u001b[0m \u001b[38;5;28;01mfrom\u001b[39;00m \u001b[38;5;21;01mnumba\u001b[39;00m\u001b[38;5;21;01m.\u001b[39;00m\u001b[38;5;21;01mcore\u001b[39;00m\u001b[38;5;21;01m.\u001b[39;00m\u001b[38;5;21;01mdecorators\u001b[39;00m \u001b[38;5;28;01mimport\u001b[39;00m (cfunc, generated_jit, jit, njit, stencil,\n\u001b[1;32m     40\u001b[0m                                    jit_module)\n\u001b[1;32m     42\u001b[0m \u001b[38;5;66;03m# Re-export vectorize decorators and the thread layer querying function\u001b[39;00m\n\u001b[0;32m---> 43\u001b[0m \u001b[38;5;28;01mfrom\u001b[39;00m \u001b[38;5;21;01mnumba\u001b[39;00m\u001b[38;5;21;01m.\u001b[39;00m\u001b[38;5;21;01mnp\u001b[39;00m\u001b[38;5;21;01m.\u001b[39;00m\u001b[38;5;21;01mufunc\u001b[39;00m \u001b[38;5;28;01mimport\u001b[39;00m (vectorize, guvectorize, threading_layer,\n\u001b[1;32m     44\u001b[0m                             get_num_threads, set_num_threads)\n\u001b[1;32m     46\u001b[0m \u001b[38;5;66;03m# Re-export Numpy helpers\u001b[39;00m\n\u001b[1;32m     47\u001b[0m \u001b[38;5;28;01mfrom\u001b[39;00m \u001b[38;5;21;01mnumba\u001b[39;00m\u001b[38;5;21;01m.\u001b[39;00m\u001b[38;5;21;01mnp\u001b[39;00m\u001b[38;5;21;01m.\u001b[39;00m\u001b[38;5;21;01mnumpy_support\u001b[39;00m \u001b[38;5;28;01mimport\u001b[39;00m carray, farray, from_dtype\n",
      "File \u001b[0;32m/lustre06/project/6068353/alouette/fwdpy_sweep/lib/python3.8/site-packages/numba/np/ufunc/__init__.py:3\u001b[0m, in \u001b[0;36m<module>\u001b[0;34m\u001b[0m\n\u001b[1;32m      1\u001b[0m \u001b[38;5;66;03m# -*- coding: utf-8 -*-\u001b[39;00m\n\u001b[0;32m----> 3\u001b[0m \u001b[38;5;28;01mfrom\u001b[39;00m \u001b[38;5;21;01mnumba\u001b[39;00m\u001b[38;5;21;01m.\u001b[39;00m\u001b[38;5;21;01mnp\u001b[39;00m\u001b[38;5;21;01m.\u001b[39;00m\u001b[38;5;21;01mufunc\u001b[39;00m\u001b[38;5;21;01m.\u001b[39;00m\u001b[38;5;21;01mdecorators\u001b[39;00m \u001b[38;5;28;01mimport\u001b[39;00m Vectorize, GUVectorize, vectorize, guvectorize\n\u001b[1;32m      4\u001b[0m \u001b[38;5;28;01mfrom\u001b[39;00m \u001b[38;5;21;01mnumba\u001b[39;00m\u001b[38;5;21;01m.\u001b[39;00m\u001b[38;5;21;01mnp\u001b[39;00m\u001b[38;5;21;01m.\u001b[39;00m\u001b[38;5;21;01mufunc\u001b[39;00m\u001b[38;5;21;01m.\u001b[39;00m\u001b[38;5;21;01m_internal\u001b[39;00m \u001b[38;5;28;01mimport\u001b[39;00m PyUFunc_None, PyUFunc_Zero, PyUFunc_One\n\u001b[1;32m      5\u001b[0m \u001b[38;5;28;01mfrom\u001b[39;00m \u001b[38;5;21;01mnumba\u001b[39;00m\u001b[38;5;21;01m.\u001b[39;00m\u001b[38;5;21;01mnp\u001b[39;00m\u001b[38;5;21;01m.\u001b[39;00m\u001b[38;5;21;01mufunc\u001b[39;00m \u001b[38;5;28;01mimport\u001b[39;00m _internal, array_exprs\n",
      "File \u001b[0;32m/lustre06/project/6068353/alouette/fwdpy_sweep/lib/python3.8/site-packages/numba/np/ufunc/decorators.py:3\u001b[0m, in \u001b[0;36m<module>\u001b[0;34m\u001b[0m\n\u001b[1;32m      1\u001b[0m \u001b[38;5;28;01mimport\u001b[39;00m \u001b[38;5;21;01minspect\u001b[39;00m\n\u001b[0;32m----> 3\u001b[0m \u001b[38;5;28;01mfrom\u001b[39;00m \u001b[38;5;21;01mnumba\u001b[39;00m\u001b[38;5;21;01m.\u001b[39;00m\u001b[38;5;21;01mnp\u001b[39;00m\u001b[38;5;21;01m.\u001b[39;00m\u001b[38;5;21;01mufunc\u001b[39;00m \u001b[38;5;28;01mimport\u001b[39;00m _internal\n\u001b[1;32m      4\u001b[0m \u001b[38;5;28;01mfrom\u001b[39;00m \u001b[38;5;21;01mnumba\u001b[39;00m\u001b[38;5;21;01m.\u001b[39;00m\u001b[38;5;21;01mnp\u001b[39;00m\u001b[38;5;21;01m.\u001b[39;00m\u001b[38;5;21;01mufunc\u001b[39;00m\u001b[38;5;21;01m.\u001b[39;00m\u001b[38;5;21;01mparallel\u001b[39;00m \u001b[38;5;28;01mimport\u001b[39;00m ParallelUFuncBuilder, ParallelGUFuncBuilder\n\u001b[1;32m      6\u001b[0m \u001b[38;5;28;01mfrom\u001b[39;00m \u001b[38;5;21;01mnumba\u001b[39;00m\u001b[38;5;21;01m.\u001b[39;00m\u001b[38;5;21;01mcore\u001b[39;00m\u001b[38;5;21;01m.\u001b[39;00m\u001b[38;5;21;01mregistry\u001b[39;00m \u001b[38;5;28;01mimport\u001b[39;00m TargetRegistry\n",
      "\u001b[0;31mSystemError\u001b[0m: initialization of _internal failed without raising an exception"
     ]
    }
   ],
   "source": [
    "import pandas as pd\n",
    "import numpy as np\n",
    "import allel\n",
    "import moments.LD\n",
    "import scipy.interpolate"
   ]
  },
  {
   "cell_type": "markdown",
   "id": "6a238ae4-ae59-46a7-9097-ac7b28866b37",
   "metadata": {
    "tags": []
   },
   "source": [
    "### Preprocessing of 1000G VCF files\n",
    "1. Apply strict mask\n",
    "    - Some sites are not reliably mapped in hg38 and need to be excluded.\n",
    "    - These regions include: repeat regions, pseudogenes, centromeric, and telomeric regions.\n",
    "2. Select only biallelic SNP sites\n",
    "    - A VCF can contain mult-allelic SNPs and structure variants (indels, tandem repeats, etc)\n",
    "    - The biallelic SNP sites are the easiest to work with, and most studies focus on them. \n",
    "\n",
    "\n",
    "\n",
    "This process can take quite a long time, I saved the processed VCFs under ~/projects/ctb-sgravel/data/30x1000G_biallelic_strict_masked <br>\n",
    "The example preprocessing script is provided below and also in the directory's README.md."
   ]
  },
  {
   "cell_type": "code",
   "execution_count": null,
   "id": "fabc073e-9fcf-454f-b7fa-beae6df4e553",
   "metadata": {},
   "outputs": [],
   "source": [
    "%%sh\n",
    "### in bash, preprocess using bcftools\n",
    "### replace variable path\n",
    "chr22_vcf_path='/home/alouette/projects/ctb-sgravel/data/1000G/20201028_CCDG_14151_B01_GRM_WGS_2020-08-05_chr22.recalibrated_variants.vcf.gz'\n",
    "strict_mask_1000G='/home/alouette/projects/ctb-sgravel/data/1000G/masks_and_annotations/20160622.allChr.mask.bed'\n",
    "IntegerT=6\n",
    "module load bcftools\n",
    "bcftools --version | head -1\n",
    "### -Oz output compressed VCF format\n",
    "### -m2 -M2 -v to only view biallellic SNPs\n",
    "### -R subset VCF from region bed file\n",
    "### --threads parallelization currently only works for compression\n",
    "bcftools view -i 'FILTER==\"PASS\"' -Oz -m2 -M2 -v snps -R ${strict_mask_1000G} ${chr22_vcf_path} --threads ${IntegerT} -o \"chr22.strict_masked.vcf.gz\""
   ]
  },
  {
   "cell_type": "markdown",
   "id": "2dcbc011-e194-4fcd-bdc7-9927a96b14c9",
   "metadata": {},
   "source": [
    "bcftools manual: http://samtools.github.io/bcftools/bcftools.html#expressions"
   ]
  },
  {
   "cell_type": "markdown",
   "id": "48adfd5e-cff0-4e8f-a1c4-aae77d6211c0",
   "metadata": {
    "tags": []
   },
   "source": [
    "### Optional: covert the VCF to zarr format for faster retrieval in scikit-allele\n",
    "In sgkit, there might be better approaches. <br>\n",
    "I also completed this step and stored the output in ~/projects/ctb-sgravel/data/30x1000G_biallelic_strict_masked/zarrFormat"
   ]
  },
  {
   "cell_type": "markdown",
   "id": "95655f44-4122-4ce3-9002-624dd19d5e6b",
   "metadata": {},
   "source": [
    "### Population information retrieval\n",
    "1000G stored its population information in a txt file: ~/projects/ctb-sgravel/data/1000G/population_info/20130606_g1k_3202_samples_ped_population.txt <br>\n",
    "This file includes family ID, sample ID, parent ID, sex, population, superpopulation. <br>\n",
    "There are some family trio in 1000G data. I currently exclude the individuals information if any of their parents are also in 1000G. <br>\n"
   ]
  },
  {
   "cell_type": "markdown",
   "id": "69f0f1a0-dede-4454-a5c1-dda92d3961e8",
   "metadata": {},
   "source": [
    "### Formatting the recombination map for pipeline\n",
    "Several recombination maps exist for the human population. Each is computed using specific populations and with specific techniques.<br>\n",
    "Two major formats exist: HapMap format and PLINK format. <br>\n",
    "The main difference is how recombination rate is stored:\n",
    "- HapMap: Chromosome, Position(bp), Rate(cM/Mb)\n",
    "- PLINK: Chromosome, Cumulative Map(cM), Position\n",
    "\n",
    "Recombination rate starts at 0 at the first measured SNP position, instead of starting at the first chromosome position. <br>\n",
    "The current ~/projects/ctb-sgravel/data/genetic_maps contains many maps in Hg37 format. <br>\n",
    "I used the HapMapII map in ~/projects/ctb-sgravel/data/genetic_maps/HapMapII_GRCh38. But transformed it into cumulative Map."
   ]
  },
  {
   "cell_type": "markdown",
   "id": "0c33ad72-636e-46a1-bfc1-8e2a9916c4c6",
   "metadata": {},
   "source": [
    "### Minimal example pipeline: EDAR region in chr2:107,500,000-110,000,000\n",
    "EDAR is an identified sweep in the EAS population."
   ]
  },
  {
   "cell_type": "code",
   "execution_count": null,
   "id": "6e3e46f3-5590-4f6c-9c9b-3b5e3248d691",
   "metadata": {},
   "outputs": [],
   "source": [
    "%%sh\n",
    "chr2_vcf_path='/home/alouette/projects/ctb-sgravel/data/1000G/20201028_CCDG_14151_B01_GRM_WGS_2020-08-05_chr2.recalibrated_variants.vcf.gz'\n",
    "strict_mask_1000G='/home/alouette/projects/ctb-sgravel/data/1000G/masks_and_annotations/20160622.allChr.mask.bed'\n",
    "IntegerT=6\n",
    "module load bcftools\n",
    "### takes 6 min\n",
    "bcftools view -i 'FILTER==\"PASS\"' -Oz -m2 -M2 -v snps -r chr2:107500000-110000000 ${chr2_vcf_path} --threads ${IntegerT} -o \"chr2.EDAR_region.vcf.gz\"\n",
    "bcftools index --threads ${IntegerT} \"chr2.EDAR_region.vcf.gz\"\n",
    "### takes 3 min\n",
    "bcftools view -Oz -R ${strict_mask_1000G} \"chr2.EDAR_region.vcf.gz\" --threads ${IntegerT} -o \"chr2.EDAR_region.strict_mask.vcf.gz\""
   ]
  },
  {
   "cell_type": "code",
   "execution_count": 45,
   "id": "48822fc5-2e63-4d9a-8f8f-ec670a0373e0",
   "metadata": {},
   "outputs": [],
   "source": [
    "def read_vcf(vcf_path:str) -> dict: \n",
    "    \"\"\"\n",
    "    Read in the VCF using scikit-allel, the genotype information is stored in a dict\n",
    "    Optimization: could limit the fields read in, can also specify detailed format like float32\n",
    "    \"\"\"\n",
    "    callset = allel.read_vcf(vcf_path)\n",
    "    return callset"
   ]
  },
  {
   "cell_type": "code",
   "execution_count": 42,
   "id": "723b5160-465f-4006-9709-fe6ff03f9d27",
   "metadata": {},
   "outputs": [],
   "source": [
    "vcf_path = \"chr2.EDAR_region.strict_mask.vcf.gz\"\n",
    "EDAR_callset = read_vcf(vcf_path)"
   ]
  },
  {
   "cell_type": "code",
   "execution_count": 43,
   "id": "39fa0af3-8ba1-4dd4-8111-def0788bc2d3",
   "metadata": {},
   "outputs": [
    {
     "data": {
      "text/plain": [
       "{'samples': array(['HG00096', 'HG00097', 'HG00099', ..., 'NA21142', 'NA21143',\n",
       "        'NA21144'], dtype=object),\n",
       " 'calldata/GT': array([[[0, 0],\n",
       "         [0, 0],\n",
       "         [0, 0],\n",
       "         ...,\n",
       "         [0, 0],\n",
       "         [0, 0],\n",
       "         [0, 0]],\n",
       " \n",
       "        [[0, 0],\n",
       "         [0, 0],\n",
       "         [0, 0],\n",
       "         ...,\n",
       "         [0, 0],\n",
       "         [0, 0],\n",
       "         [0, 0]],\n",
       " \n",
       "        [[0, 0],\n",
       "         [0, 0],\n",
       "         [0, 0],\n",
       "         ...,\n",
       "         [0, 0],\n",
       "         [0, 0],\n",
       "         [0, 0]],\n",
       " \n",
       "        ...,\n",
       " \n",
       "        [[0, 0],\n",
       "         [0, 0],\n",
       "         [0, 0],\n",
       "         ...,\n",
       "         [0, 0],\n",
       "         [0, 0],\n",
       "         [0, 0]],\n",
       " \n",
       "        [[0, 0],\n",
       "         [0, 0],\n",
       "         [0, 0],\n",
       "         ...,\n",
       "         [0, 0],\n",
       "         [0, 0],\n",
       "         [0, 0]],\n",
       " \n",
       "        [[0, 0],\n",
       "         [0, 0],\n",
       "         [0, 0],\n",
       "         ...,\n",
       "         [0, 0],\n",
       "         [0, 0],\n",
       "         [0, 0]]], dtype=int8),\n",
       " 'variants/ALT': array([['G', '', ''],\n",
       "        ['T', '', ''],\n",
       "        ['T', '', ''],\n",
       "        ...,\n",
       "        ['A', '', ''],\n",
       "        ['C', '', ''],\n",
       "        ['G', '', '']], dtype=object),\n",
       " 'variants/CHROM': array(['chr2', 'chr2', 'chr2', ..., 'chr2', 'chr2', 'chr2'], dtype=object),\n",
       " 'variants/FILTER_PASS': array([ True,  True,  True, ...,  True,  True,  True]),\n",
       " 'variants/ID': array(['.', '.', '.', ..., '.', '.', '.'], dtype=object),\n",
       " 'variants/POS': array([107500027, 107500073, 107500170, ..., 109736849, 109742841,\n",
       "        109743205], dtype=int32),\n",
       " 'variants/QUAL': array([  781.65,  1768.47,   398.69, ...,   485.69, 27346.8 ,  1404.62],\n",
       "       dtype=float32),\n",
       " 'variants/REF': array(['A', 'G', 'C', ..., 'T', 'T', 'A'], dtype=object)}"
      ]
     },
     "execution_count": 43,
     "metadata": {},
     "output_type": "execute_result"
    }
   ],
   "source": [
    "EDAR_callset"
   ]
  },
  {
   "cell_type": "code",
   "execution_count": 44,
   "id": "c47473f2-096b-4bc6-b7fc-3d4bf9a0b8c2",
   "metadata": {},
   "outputs": [
    {
     "data": {
      "text/plain": [
       "58860"
      ]
     },
     "execution_count": 44,
     "metadata": {},
     "output_type": "execute_result"
    }
   ],
   "source": [
    "len(EDAR_callset['variants/POS'])"
   ]
  },
  {
   "cell_type": "code",
   "execution_count": 46,
   "id": "40cdd9c1-e6d5-4afa-bdd9-81d63946c1be",
   "metadata": {},
   "outputs": [
    {
     "data": {
      "text/plain": [
       "numpy.ndarray"
      ]
     },
     "execution_count": 46,
     "metadata": {},
     "output_type": "execute_result"
    }
   ],
   "source": [
    "type(EDAR_callset['variants/POS'])"
   ]
  },
  {
   "cell_type": "code",
   "execution_count": 55,
   "id": "0224c4a0-30f6-4422-8a2c-ff9665f88e81",
   "metadata": {},
   "outputs": [],
   "source": [
    "def read_rec_map(rec_map_path: str, format = \"HapMap\") -> pd.DataFrame:\n",
    "    \"\"\"\n",
    "    Read the recombination map, normalize between different formats.\n",
    "    Currently set to read from HapMap format\n",
    "    Covert the Rate(cM/MB) to cumulative Rate (cM)\n",
    "    Return a pd.DataFrame\n",
    "    \"\"\"\n",
    "    rec_map_df = pd.read_csv(rec_map_path, sep = \"\\t\")\n",
    "    rec_map_df.columns = [\"Chr\", \"bp\", \"Rate_cM\"]\n",
    "    rec_map_df[\"cum_bp\"] = rec_map_df.bp.cumsum()\n",
    "    return rec_map_df"
   ]
  },
  {
   "cell_type": "code",
   "execution_count": 63,
   "id": "aa6d408a-fcb8-4857-a264-515f0a2e8d08",
   "metadata": {},
   "outputs": [],
   "source": [
    "def bp_to_centimorgan(position_array: np.ndarray, rec_map_df: pd.DataFrame) -> np.ndarray:\n",
    "    \"\"\"\n",
    "    Return a list of centimorgan map distance corresponding to each position bp distance\n",
    "    \"\"\"\n",
    "    bp_to_cM_F = scipy.interpolate.interp1d(rec_map_df.bp, rec_map_df.Rate_cM, fill_value='extrapolate' )\n",
    "    cM_array = bp_to_cM_F(position_array)\n",
    "    return cM_array"
   ]
  },
  {
   "cell_type": "code",
   "execution_count": 56,
   "id": "1cd1a9f8-99fe-4ca4-b794-279160211b6c",
   "metadata": {},
   "outputs": [
    {
     "data": {
      "text/html": [
       "<div>\n",
       "<style scoped>\n",
       "    .dataframe tbody tr th:only-of-type {\n",
       "        vertical-align: middle;\n",
       "    }\n",
       "\n",
       "    .dataframe tbody tr th {\n",
       "        vertical-align: top;\n",
       "    }\n",
       "\n",
       "    .dataframe thead th {\n",
       "        text-align: right;\n",
       "    }\n",
       "</style>\n",
       "<table border=\"1\" class=\"dataframe\">\n",
       "  <thead>\n",
       "    <tr style=\"text-align: right;\">\n",
       "      <th></th>\n",
       "      <th>Chr</th>\n",
       "      <th>bp</th>\n",
       "      <th>Rate_cM</th>\n",
       "    </tr>\n",
       "  </thead>\n",
       "  <tbody>\n",
       "    <tr>\n",
       "      <th>0</th>\n",
       "      <td>chr2</td>\n",
       "      <td>12994</td>\n",
       "      <td>0.339408</td>\n",
       "    </tr>\n",
       "    <tr>\n",
       "      <th>1</th>\n",
       "      <td>chr2</td>\n",
       "      <td>15491</td>\n",
       "      <td>0.336057</td>\n",
       "    </tr>\n",
       "    <tr>\n",
       "      <th>2</th>\n",
       "      <td>chr2</td>\n",
       "      <td>15672</td>\n",
       "      <td>0.308424</td>\n",
       "    </tr>\n",
       "    <tr>\n",
       "      <th>3</th>\n",
       "      <td>chr2</td>\n",
       "      <td>15703</td>\n",
       "      <td>0.273441</td>\n",
       "    </tr>\n",
       "    <tr>\n",
       "      <th>4</th>\n",
       "      <td>chr2</td>\n",
       "      <td>16111</td>\n",
       "      <td>0.232868</td>\n",
       "    </tr>\n",
       "    <tr>\n",
       "      <th>...</th>\n",
       "      <td>...</td>\n",
       "      <td>...</td>\n",
       "      <td>...</td>\n",
       "    </tr>\n",
       "    <tr>\n",
       "      <th>286388</th>\n",
       "      <td>chr2</td>\n",
       "      <td>242106373</td>\n",
       "      <td>0.122849</td>\n",
       "    </tr>\n",
       "    <tr>\n",
       "      <th>286389</th>\n",
       "      <td>chr2</td>\n",
       "      <td>242106609</td>\n",
       "      <td>0.133203</td>\n",
       "    </tr>\n",
       "    <tr>\n",
       "      <th>286390</th>\n",
       "      <td>chr2</td>\n",
       "      <td>242110180</td>\n",
       "      <td>0.136364</td>\n",
       "    </tr>\n",
       "    <tr>\n",
       "      <th>286391</th>\n",
       "      <td>chr2</td>\n",
       "      <td>242119359</td>\n",
       "      <td>0.174241</td>\n",
       "    </tr>\n",
       "    <tr>\n",
       "      <th>286392</th>\n",
       "      <td>chr2</td>\n",
       "      <td>242148846</td>\n",
       "      <td>0.000000</td>\n",
       "    </tr>\n",
       "  </tbody>\n",
       "</table>\n",
       "<p>286393 rows × 3 columns</p>\n",
       "</div>"
      ],
      "text/plain": [
       "         Chr         bp   Rate_cM\n",
       "0       chr2      12994  0.339408\n",
       "1       chr2      15491  0.336057\n",
       "2       chr2      15672  0.308424\n",
       "3       chr2      15703  0.273441\n",
       "4       chr2      16111  0.232868\n",
       "...      ...        ...       ...\n",
       "286388  chr2  242106373  0.122849\n",
       "286389  chr2  242106609  0.133203\n",
       "286390  chr2  242110180  0.136364\n",
       "286391  chr2  242119359  0.174241\n",
       "286392  chr2  242148846  0.000000\n",
       "\n",
       "[286393 rows x 3 columns]"
      ]
     },
     "execution_count": 56,
     "metadata": {},
     "output_type": "execute_result"
    }
   ],
   "source": [
    "rec_map_path = \"/home/alouette/projects/ctb-sgravel/data/genetic_maps/HapMapII_GRCh38/genetic_map_Hg38_chr2.txt\"\n",
    "rec_map_df = read_rec_map(rec_map_path)\n",
    "rec_map_df"
   ]
  },
  {
   "cell_type": "code",
   "execution_count": 60,
   "id": "d318c873-b37b-4c79-9b40-18ffc8fa7f3f",
   "metadata": {},
   "outputs": [],
   "source": [
    "bp_to_cM_F = rec_map_interpolate(rec_map_df)"
   ]
  },
  {
   "cell_type": "code",
   "execution_count": 61,
   "id": "8ce60691-a95a-42d2-a05d-02da60cd09bf",
   "metadata": {},
   "outputs": [
    {
     "data": {
      "text/plain": [
       "array([0.00525299, 0.0052575 , 0.005267  , ..., 2.73506194, 2.73505867,\n",
       "       2.73505847])"
      ]
     },
     "execution_count": 61,
     "metadata": {},
     "output_type": "execute_result"
    }
   ],
   "source": [
    "bp_to_centimorgan(EDAR_callset['variants/POS'], rec_map_df)"
   ]
  },
  {
   "cell_type": "markdown",
   "id": "c2a20a2a-c751-4a2a-9b88-fd12af91ad01",
   "metadata": {},
   "source": [
    "### sgkit window function inspiration \n",
    "\n",
    "sgkit has 3 windowing functions: by variant, by position, and by genome."
   ]
  },
  {
   "cell_type": "code",
   "execution_count": null,
   "id": "095a3d8b-7cdb-45f4-a844-72f8873d0a85",
   "metadata": {},
   "outputs": [],
   "source": [
    "def window_by_reombination()"
   ]
  },
  {
   "cell_type": "code",
   "execution_count": null,
   "id": "df7f2e83-cd35-4be3-90ab-0a0252c011dc",
   "metadata": {},
   "outputs": [],
   "source": [
    "def window_Dz():\n",
    "    \"\"\"\n",
    "    \n",
    "    \"\"\"\n",
    "    "
   ]
  },
  {
   "cell_type": "code",
   "execution_count": null,
   "id": "87135ca2-2a48-4cd6-aa51-1b603b8d944a",
   "metadata": {},
   "outputs": [],
   "source": [
    "def subset_Dz_computation():\n",
    "    \"\"\"\n",
    "    Memory requirement is large when there are too many SNPs in a single calculation.\n",
    "    Ideally the total SNP should be less than 5,000\n",
    "    Subset the Dz caclulation into chunks and return the combined computed values.\n",
    "    \"\"\""
   ]
  }
 ],
 "metadata": {
  "kernelspec": {
   "display_name": "Fwdpy Sweep Kernel",
   "language": "python",
   "name": "sweep"
  },
  "language_info": {
   "codemirror_mode": {
    "name": "ipython",
    "version": 3
   },
   "file_extension": ".py",
   "mimetype": "text/x-python",
   "name": "python",
   "nbconvert_exporter": "python",
   "pygments_lexer": "ipython3",
   "version": "3.8.10"
  }
 },
 "nbformat": 4,
 "nbformat_minor": 5
}

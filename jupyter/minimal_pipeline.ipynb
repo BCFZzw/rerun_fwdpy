{
 "cells": [
  {
   "cell_type": "code",
   "execution_count": 26,
   "id": "b6507bdb-3d0f-45de-a47a-8d1f3717e76a",
   "metadata": {},
   "outputs": [],
   "source": [
    "import pandas as pd\n",
    "import numpy as np\n",
    "import allel\n",
    "import moments.LD\n",
    "import scipy.interpolate\n",
    "import msprime as ms"
   ]
  },
  {
   "cell_type": "markdown",
   "id": "6a238ae4-ae59-46a7-9097-ac7b28866b37",
   "metadata": {
    "tags": []
   },
   "source": [
    "### Preprocessing of 1000G VCF files\n",
    "1. Apply strict mask\n",
    "    - Some sites are not reliably mapped in hg38 and need to be excluded.\n",
    "    - These regions include: repeat regions, pseudogenes, centromeric, and telomeric regions.\n",
    "2. Select only biallelic SNP sites\n",
    "    - A VCF can contain mult-allelic SNPs and structure variants (indels, tandem repeats, etc)\n",
    "    - The biallelic SNP sites are the easiest to work with, and most studies focus on them. \n",
    "\n",
    "\n",
    "\n",
    "This process can take quite a long time, I saved the processed VCFs under ~/projects/ctb-sgravel/data/30x1000G_biallelic_strict_masked <br>\n",
    "The example preprocessing script is provided below and also in the directory's README.md."
   ]
  },
  {
   "cell_type": "code",
   "execution_count": null,
   "id": "fabc073e-9fcf-454f-b7fa-beae6df4e553",
   "metadata": {},
   "outputs": [],
   "source": [
    "%%sh\n",
    "### in bash, preprocess using bcftools\n",
    "### replace variable path\n",
    "chr22_vcf_path='/home/alouette/projects/ctb-sgravel/data/1000G/20201028_CCDG_14151_B01_GRM_WGS_2020-08-05_chr22.recalibrated_variants.vcf.gz'\n",
    "strict_mask_1000G='/home/alouette/projects/ctb-sgravel/data/1000G/masks_and_annotations/20160622.allChr.mask.bed'\n",
    "IntegerT=6\n",
    "module load bcftools\n",
    "bcftools --version | head -1\n",
    "### -Oz output compressed VCF format\n",
    "### -m2 -M2 -v to only view biallellic SNPs\n",
    "### -R subset VCF from region bed file\n",
    "### --threads parallelization currently only works for compression\n",
    "bcftools view -i 'FILTER==\"PASS\"' -Oz -m2 -M2 -v snps -R ${strict_mask_1000G} ${chr22_vcf_path} --threads ${IntegerT} -o \"chr22.strict_masked.vcf.gz\""
   ]
  },
  {
   "cell_type": "markdown",
   "id": "2dcbc011-e194-4fcd-bdc7-9927a96b14c9",
   "metadata": {},
   "source": [
    "bcftools manual: http://samtools.github.io/bcftools/bcftools.html#expressions"
   ]
  },
  {
   "cell_type": "markdown",
   "id": "48adfd5e-cff0-4e8f-a1c4-aae77d6211c0",
   "metadata": {
    "tags": []
   },
   "source": [
    "### Optional: covert the VCF to zarr format for faster retrieval in scikit-allele\n",
    "In sgkit, there might be better approaches. <br>\n",
    "I also completed this step and stored the output in ~/projects/ctb-sgravel/data/30x1000G_biallelic_strict_masked/zarrFormat"
   ]
  },
  {
   "cell_type": "markdown",
   "id": "95655f44-4122-4ce3-9002-624dd19d5e6b",
   "metadata": {},
   "source": [
    "### Population information retrieval\n",
    "1000G stored its population information in a txt file: ~/projects/ctb-sgravel/data/1000G/population_info/20130606_g1k_3202_samples_ped_population.txt <br>\n",
    "This file includes family ID, sample ID, parent ID, sex, population, superpopulation. <br>\n",
    "There are some family trio in 1000G data. I currently exclude the individuals information if any of their parents are also in 1000G. <br>\n"
   ]
  },
  {
   "cell_type": "markdown",
   "id": "69f0f1a0-dede-4454-a5c1-dda92d3961e8",
   "metadata": {},
   "source": [
    "### Formatting the recombination map for pipeline\n",
    "Several recombination maps exist for the human population. Each is computed using specific populations and with specific techniques.<br>\n",
    "Two major formats exist: HapMap format and PLINK format. <br>\n",
    "The main difference is how recombination rate is stored:\n",
    "- HapMap: Chromosome, Position(bp), Rate(cM/Mb)\n",
    "- PLINK: Chromosome, Cumulative Map(cM), Position\n",
    "\n",
    "Recombination rate starts at 0 at the first measured SNP position, instead of starting at the first chromosome position. <br>\n",
    "The current ~/projects/ctb-sgravel/data/genetic_maps contains many maps in Hg37 format. <br>\n",
    "I used the HapMapII map in ~/projects/ctb-sgravel/data/genetic_maps/HapMapII_GRCh38. But transformed it into cumulative Map."
   ]
  },
  {
   "cell_type": "markdown",
   "id": "0c33ad72-636e-46a1-bfc1-8e2a9916c4c6",
   "metadata": {},
   "source": [
    "### Minimal example pipeline: EDAR region in chr2:107,500,000-110,000,000\n",
    "EDAR is an identified sweep in the EAS population."
   ]
  },
  {
   "cell_type": "code",
   "execution_count": null,
   "id": "6e3e46f3-5590-4f6c-9c9b-3b5e3248d691",
   "metadata": {},
   "outputs": [],
   "source": [
    "%%sh\n",
    "chr2_vcf_path='/home/alouette/projects/ctb-sgravel/data/1000G/20201028_CCDG_14151_B01_GRM_WGS_2020-08-05_chr2.recalibrated_variants.vcf.gz'\n",
    "strict_mask_1000G='/home/alouette/projects/ctb-sgravel/data/1000G/masks_and_annotations/20160622.allChr.mask.bed'\n",
    "IntegerT=6\n",
    "module load bcftools\n",
    "### takes 6 min\n",
    "bcftools view -i 'FILTER==\"PASS\"' -Oz -m2 -M2 -v snps -r chr2:107500000-110000000 ${chr2_vcf_path} --threads ${IntegerT} -o \"chr2.EDAR_region.vcf.gz\"\n",
    "bcftools index --threads ${IntegerT} \"chr2.EDAR_region.vcf.gz\"\n",
    "### takes 3 min\n",
    "bcftools view -Oz -R ${strict_mask_1000G} \"chr2.EDAR_region.vcf.gz\" --threads ${IntegerT} -o \"chr2.EDAR_region.strict_mask.vcf.gz\""
   ]
  },
  {
   "cell_type": "code",
   "execution_count": 2,
   "id": "48822fc5-2e63-4d9a-8f8f-ec670a0373e0",
   "metadata": {},
   "outputs": [],
   "source": [
    "def read_vcf(vcf_path:str) -> dict: \n",
    "    \"\"\"\n",
    "    Read in the VCF using scikit-allel, the genotype information is stored in a dict\n",
    "    Optimization: could limit the fields read in, can also specify detailed format like float32\n",
    "    \"\"\"\n",
    "    callset = allel.read_vcf(vcf_path)\n",
    "    return callset"
   ]
  },
  {
   "cell_type": "code",
   "execution_count": 3,
   "id": "723b5160-465f-4006-9709-fe6ff03f9d27",
   "metadata": {},
   "outputs": [],
   "source": [
    "vcf_path = \"chr2.EDAR_region.strict_mask.vcf.gz\"\n",
    "EDAR_callset = read_vcf(vcf_path)"
   ]
  },
  {
   "cell_type": "code",
   "execution_count": 4,
   "id": "39fa0af3-8ba1-4dd4-8111-def0788bc2d3",
   "metadata": {},
   "outputs": [
    {
     "data": {
      "text/plain": [
       "{'samples': array(['HG00096', 'HG00097', 'HG00099', ..., 'NA21142', 'NA21143',\n",
       "        'NA21144'], dtype=object),\n",
       " 'calldata/GT': array([[[0, 0],\n",
       "         [0, 0],\n",
       "         [0, 0],\n",
       "         ...,\n",
       "         [0, 0],\n",
       "         [0, 0],\n",
       "         [0, 0]],\n",
       " \n",
       "        [[0, 0],\n",
       "         [0, 0],\n",
       "         [0, 0],\n",
       "         ...,\n",
       "         [0, 0],\n",
       "         [0, 0],\n",
       "         [0, 0]],\n",
       " \n",
       "        [[0, 0],\n",
       "         [0, 0],\n",
       "         [0, 0],\n",
       "         ...,\n",
       "         [0, 0],\n",
       "         [0, 0],\n",
       "         [0, 0]],\n",
       " \n",
       "        ...,\n",
       " \n",
       "        [[0, 0],\n",
       "         [0, 0],\n",
       "         [0, 0],\n",
       "         ...,\n",
       "         [0, 0],\n",
       "         [0, 0],\n",
       "         [0, 0]],\n",
       " \n",
       "        [[0, 0],\n",
       "         [0, 0],\n",
       "         [0, 0],\n",
       "         ...,\n",
       "         [0, 0],\n",
       "         [0, 0],\n",
       "         [0, 0]],\n",
       " \n",
       "        [[0, 0],\n",
       "         [0, 0],\n",
       "         [0, 0],\n",
       "         ...,\n",
       "         [0, 0],\n",
       "         [0, 0],\n",
       "         [0, 0]]], dtype=int8),\n",
       " 'variants/ALT': array([['G', '', ''],\n",
       "        ['T', '', ''],\n",
       "        ['T', '', ''],\n",
       "        ...,\n",
       "        ['A', '', ''],\n",
       "        ['C', '', ''],\n",
       "        ['G', '', '']], dtype=object),\n",
       " 'variants/CHROM': array(['chr2', 'chr2', 'chr2', ..., 'chr2', 'chr2', 'chr2'], dtype=object),\n",
       " 'variants/FILTER_PASS': array([ True,  True,  True, ...,  True,  True,  True]),\n",
       " 'variants/ID': array(['.', '.', '.', ..., '.', '.', '.'], dtype=object),\n",
       " 'variants/POS': array([107500027, 107500073, 107500170, ..., 109736849, 109742841,\n",
       "        109743205], dtype=int32),\n",
       " 'variants/QUAL': array([  781.65,  1768.47,   398.69, ...,   485.69, 27346.8 ,  1404.62],\n",
       "       dtype=float32),\n",
       " 'variants/REF': array(['A', 'G', 'C', ..., 'T', 'T', 'A'], dtype=object)}"
      ]
     },
     "execution_count": 4,
     "metadata": {},
     "output_type": "execute_result"
    }
   ],
   "source": [
    "EDAR_callset"
   ]
  },
  {
   "cell_type": "code",
   "execution_count": 44,
   "id": "c47473f2-096b-4bc6-b7fc-3d4bf9a0b8c2",
   "metadata": {},
   "outputs": [
    {
     "data": {
      "text/plain": [
       "58860"
      ]
     },
     "execution_count": 44,
     "metadata": {},
     "output_type": "execute_result"
    }
   ],
   "source": [
    "len(EDAR_callset['variants/POS'])"
   ]
  },
  {
   "cell_type": "code",
   "execution_count": 46,
   "id": "40cdd9c1-e6d5-4afa-bdd9-81d63946c1be",
   "metadata": {},
   "outputs": [
    {
     "data": {
      "text/plain": [
       "numpy.ndarray"
      ]
     },
     "execution_count": 46,
     "metadata": {},
     "output_type": "execute_result"
    }
   ],
   "source": [
    "type(EDAR_callset['variants/POS'])"
   ]
  },
  {
   "cell_type": "code",
   "execution_count": 8,
   "id": "2a3e17a2-89f7-47ec-930f-9b5fb6a9b6e6",
   "metadata": {},
   "outputs": [],
   "source": [
    "pos_array = EDAR_callset['variants/POS']\n",
    "snp_array = EDAR_callset['calldata/GT']"
   ]
  },
  {
   "cell_type": "code",
   "execution_count": 35,
   "id": "0224c4a0-30f6-4422-8a2c-ff9665f88e81",
   "metadata": {},
   "outputs": [],
   "source": [
    "def _read_rec_map(rec_map_path: str) -> pd.DataFrame:\n",
    "    \"\"\"\n",
    "    Read the recombination map, normalize between different formats.\n",
    "    Currently set to read from HapMap format, with a one row header\n",
    "    Covert the Rate(cM/MB) to cumulative Rate (cM)\n",
    "    Return a pd.DataFrame\n",
    "    \"\"\"\n",
    "    rec_map_df = pd.read_csv(rec_map_path, sep = \"\\t\", names = [\"Chr\", \"bp\", \"Rate_cM\"], skiprows = 1)\n",
    "    rec_map_df[\"diff_bp\"] = rec_map_df.bp.diff()[1:].reset_index(drop = True)\n",
    "    rec_map_df.diff_bp = rec_map_df.diff_bp.astype(\"Int32\")\n",
    "    rec_map_df[\"cM\"] = rec_map_df.diff_bp * rec_map_df.Rate_cM / 1e6\n",
    "    rec_map_df[\"cum_cM\"] = rec_map_df.cM.cumsum()\n",
    "    return rec_map_df"
   ]
  },
  {
   "cell_type": "code",
   "execution_count": 44,
   "id": "114ff70e-9e5c-44e2-9fa5-13be54995a43",
   "metadata": {},
   "outputs": [],
   "source": [
    "def _msprime_read_HapMap(rec_map_path: str) -> pd.DataFrame:\n",
    "    \"\"\"\n",
    "    Require msprime >= 1.0.0\n",
    "    Read the recombination map using msprime functionality.\n",
    "    Can uses the functionality: get_cumulative_mass(), find_index()\n",
    "    Column 1-2, positions; left: inclusive, right: exclusive\n",
    "    \"\"\"\n",
    "    ms_RateMap = ms.RateMap.read_hapmap(rec_map_path, position_col=1, rate_col=2)\n",
    "    return ms_RateMap"
   ]
  },
  {
   "cell_type": "code",
   "execution_count": 74,
   "id": "aa6d408a-fcb8-4857-a264-515f0a2e8d08",
   "metadata": {},
   "outputs": [],
   "source": [
    "def _bp_to_cM(ms_RateMap: ms.RateMap) -> np.ndarray:\n",
    "    \"\"\"\n",
    "    Return the function transforming bp to cM.\n",
    "    \"\"\"\n",
    "    bp_to_cM_F = scipy.interpolate.interp1d(ms_RateMap.left, np.nancumsum(rec_map_df.mass)*100, fill_value='extrapolate' )\n",
    "    return bp_to_cM_F"
   ]
  },
  {
   "cell_type": "code",
   "execution_count": 75,
   "id": "565724df-1a78-484a-a020-996ad5373743",
   "metadata": {},
   "outputs": [],
   "source": [
    "def _cM_to_bp(ms_RateMap: ms.RateMap) -> np.ndarray:\n",
    "    \"\"\"\n",
    "    Return the function transforming cM to bp.\n",
    "    \"\"\"\n",
    "    cM_to_bp_F = scipy.interpolate.interp1d(np.nancumsum(rec_map_df.mass)*100, ms_RateMap.left, fill_value='extrapolate' )\n",
    "    return cM_to_bp_F"
   ]
  },
  {
   "cell_type": "code",
   "execution_count": 71,
   "id": "a015590b-49b6-4ce6-becb-b08762a2bc32",
   "metadata": {},
   "outputs": [],
   "source": [
    "cM_to_bp_F = _bp_to_cM(rec_map_df)"
   ]
  },
  {
   "cell_type": "code",
   "execution_count": null,
   "id": "0e2c868c-369f-4574-86c0-9dad8f56a0a8",
   "metadata": {},
   "outputs": [],
   "source": []
  },
  {
   "cell_type": "code",
   "execution_count": 73,
   "id": "89e34d8e-b6a9-406f-95ed-ff2c933dae97",
   "metadata": {},
   "outputs": [
    {
     "data": {
      "text/plain": [
       "array(0.00334915)"
      ]
     },
     "execution_count": 73,
     "metadata": {},
     "output_type": "execute_result"
    }
   ],
   "source": [
    "bp_to_cM_F(52147)"
   ]
  },
  {
   "cell_type": "code",
   "execution_count": 68,
   "id": "1cd1a9f8-99fe-4ca4-b794-279160211b6c",
   "metadata": {},
   "outputs": [
    {
     "data": {
      "text/html": [
       "<div>\n",
       "<style scoped>\n",
       "    .dataframe tbody tr th:only-of-type {\n",
       "        vertical-align: middle;\n",
       "    }\n",
       "\n",
       "    .dataframe tbody tr th {\n",
       "        vertical-align: top;\n",
       "    }\n",
       "\n",
       "    .dataframe thead th {\n",
       "        text-align: right;\n",
       "    }\n",
       "</style>\n",
       "<table border=\"1\" class=\"dataframe\">\n",
       "  <thead>\n",
       "    <tr style=\"text-align: right;\">\n",
       "      <th></th>\n",
       "      <th>Chr</th>\n",
       "      <th>bp</th>\n",
       "      <th>Rate_cM</th>\n",
       "      <th>diff_bp</th>\n",
       "      <th>cM</th>\n",
       "      <th>cum_cM</th>\n",
       "    </tr>\n",
       "  </thead>\n",
       "  <tbody>\n",
       "    <tr>\n",
       "      <th>0</th>\n",
       "      <td>chr10</td>\n",
       "      <td>26829</td>\n",
       "      <td>0.124482</td>\n",
       "      <td>21403</td>\n",
       "      <td>0.002664</td>\n",
       "      <td>0.002664</td>\n",
       "    </tr>\n",
       "    <tr>\n",
       "      <th>1</th>\n",
       "      <td>chr10</td>\n",
       "      <td>48232</td>\n",
       "      <td>0.160359</td>\n",
       "      <td>254</td>\n",
       "      <td>0.000041</td>\n",
       "      <td>0.002705</td>\n",
       "    </tr>\n",
       "    <tr>\n",
       "      <th>2</th>\n",
       "      <td>chr10</td>\n",
       "      <td>48486</td>\n",
       "      <td>0.158828</td>\n",
       "      <td>1523</td>\n",
       "      <td>0.000242</td>\n",
       "      <td>0.002947</td>\n",
       "    </tr>\n",
       "    <tr>\n",
       "      <th>3</th>\n",
       "      <td>chr10</td>\n",
       "      <td>50009</td>\n",
       "      <td>0.158845</td>\n",
       "      <td>2138</td>\n",
       "      <td>0.00034</td>\n",
       "      <td>0.003287</td>\n",
       "    </tr>\n",
       "    <tr>\n",
       "      <th>4</th>\n",
       "      <td>chr10</td>\n",
       "      <td>52147</td>\n",
       "      <td>0.158922</td>\n",
       "      <td>394</td>\n",
       "      <td>0.000063</td>\n",
       "      <td>0.003349</td>\n",
       "    </tr>\n",
       "    <tr>\n",
       "      <th>...</th>\n",
       "      <td>...</td>\n",
       "      <td>...</td>\n",
       "      <td>...</td>\n",
       "      <td>...</td>\n",
       "      <td>...</td>\n",
       "      <td>...</td>\n",
       "    </tr>\n",
       "    <tr>\n",
       "      <th>180750</th>\n",
       "      <td>chr10</td>\n",
       "      <td>133633304</td>\n",
       "      <td>3.279045</td>\n",
       "      <td>1163</td>\n",
       "      <td>0.003814</td>\n",
       "      <td>178.181552</td>\n",
       "    </tr>\n",
       "    <tr>\n",
       "      <th>180751</th>\n",
       "      <td>chr10</td>\n",
       "      <td>133634467</td>\n",
       "      <td>1.324084</td>\n",
       "      <td>127371</td>\n",
       "      <td>0.16865</td>\n",
       "      <td>178.350202</td>\n",
       "    </tr>\n",
       "    <tr>\n",
       "      <th>180752</th>\n",
       "      <td>chr10</td>\n",
       "      <td>133761838</td>\n",
       "      <td>5.906078</td>\n",
       "      <td>164</td>\n",
       "      <td>0.000969</td>\n",
       "      <td>178.35117</td>\n",
       "    </tr>\n",
       "    <tr>\n",
       "      <th>180753</th>\n",
       "      <td>chr10</td>\n",
       "      <td>133762002</td>\n",
       "      <td>3.358621</td>\n",
       "      <td>4366</td>\n",
       "      <td>0.014664</td>\n",
       "      <td>178.365834</td>\n",
       "    </tr>\n",
       "    <tr>\n",
       "      <th>180754</th>\n",
       "      <td>chr10</td>\n",
       "      <td>133766368</td>\n",
       "      <td>0.000000</td>\n",
       "      <td>&lt;NA&gt;</td>\n",
       "      <td>&lt;NA&gt;</td>\n",
       "      <td>&lt;NA&gt;</td>\n",
       "    </tr>\n",
       "  </tbody>\n",
       "</table>\n",
       "<p>180755 rows × 6 columns</p>\n",
       "</div>"
      ],
      "text/plain": [
       "          Chr         bp   Rate_cM  diff_bp        cM      cum_cM\n",
       "0       chr10      26829  0.124482    21403  0.002664    0.002664\n",
       "1       chr10      48232  0.160359      254  0.000041    0.002705\n",
       "2       chr10      48486  0.158828     1523  0.000242    0.002947\n",
       "3       chr10      50009  0.158845     2138   0.00034    0.003287\n",
       "4       chr10      52147  0.158922      394  0.000063    0.003349\n",
       "...       ...        ...       ...      ...       ...         ...\n",
       "180750  chr10  133633304  3.279045     1163  0.003814  178.181552\n",
       "180751  chr10  133634467  1.324084   127371   0.16865  178.350202\n",
       "180752  chr10  133761838  5.906078      164  0.000969   178.35117\n",
       "180753  chr10  133762002  3.358621     4366  0.014664  178.365834\n",
       "180754  chr10  133766368  0.000000     <NA>      <NA>        <NA>\n",
       "\n",
       "[180755 rows x 6 columns]"
      ]
     },
     "execution_count": 68,
     "metadata": {},
     "output_type": "execute_result"
    }
   ],
   "source": [
    "rec_map_path = \"/home/alouette/projects/ctb-sgravel/data/genetic_maps/HapMapII_GRCh38/genetic_map_Hg38_chr10.txt\"\n",
    "rec_map_df2 = _read_rec_map(rec_map_path)\n",
    "rec_map_df2"
   ]
  },
  {
   "cell_type": "code",
   "execution_count": 53,
   "id": "783f7384-eedf-4056-9d7f-7774e405fe1a",
   "metadata": {},
   "outputs": [
    {
     "data": {
      "text/plain": [
       "array([           nan, 2.66429381e-05, 4.07311860e-07, ...,\n",
       "       1.68649945e-03, 9.68596792e-06, 1.46637393e-04])"
      ]
     },
     "execution_count": 53,
     "metadata": {},
     "output_type": "execute_result"
    }
   ],
   "source": [
    "rec_map_df.mass"
   ]
  },
  {
   "cell_type": "code",
   "execution_count": 33,
   "id": "e86a60da-6de5-487d-8b9a-82c913ab6896",
   "metadata": {},
   "outputs": [
    {
     "data": {
      "text/plain": [
       "1.783658341121365"
      ]
     },
     "execution_count": 33,
     "metadata": {},
     "output_type": "execute_result"
    }
   ],
   "source": [
    "rec_map_msprime.get_cumulative_mass(133766368)"
   ]
  },
  {
   "cell_type": "code",
   "execution_count": 60,
   "id": "d318c873-b37b-4c79-9b40-18ffc8fa7f3f",
   "metadata": {},
   "outputs": [],
   "source": [
    "bp_to_cM_F = rec_map_interpolate(rec_map_df)"
   ]
  },
  {
   "cell_type": "code",
   "execution_count": 61,
   "id": "8ce60691-a95a-42d2-a05d-02da60cd09bf",
   "metadata": {},
   "outputs": [
    {
     "data": {
      "text/plain": [
       "array([0.00525299, 0.0052575 , 0.005267  , ..., 2.73506194, 2.73505867,\n",
       "       2.73505847])"
      ]
     },
     "execution_count": 61,
     "metadata": {},
     "output_type": "execute_result"
    }
   ],
   "source": [
    "bp_to_centimorgan(EDAR_callset['variants/POS'], rec_map_df)"
   ]
  },
  {
   "cell_type": "markdown",
   "id": "c2a20a2a-c751-4a2a-9b88-fd12af91ad01",
   "metadata": {},
   "source": [
    "### sgkit window function inspiration \n",
    "\n",
    "sgkit has 3 windowing functions: by variant, by position, and by genome."
   ]
  },
  {
   "cell_type": "code",
   "execution_count": null,
   "id": "b7ff849b-be2a-4304-bab5-04650f9db922",
   "metadata": {},
   "outputs": [],
   "source": [
    "### sgkit window master function functions\n",
    "    n_variants = ds.sizes[\"variants\"]\n",
    "    n_contigs = num_contigs(ds)\n",
    "    contig_ids = np.arange(n_contigs)\n",
    "    variant_contig = ds[\"variant_contig\"]\n",
    "    contig_starts = np.searchsorted(variant_contig.values, contig_ids)\n",
    "    contig_bounds = np.append(contig_starts, [n_variants], axis=0)  # type: ignore[no-untyped-call]\n",
    "\n",
    "    contig_window_contigs = []\n",
    "    contig_window_starts = []\n",
    "    contig_window_stops = []\n",
    "    for i, contig in enumerate(get_contigs(ds)):\n",
    "        starts, stops = windowing_fn(\n",
    "            contig, contig_bounds[i], contig_bounds[i + 1], *args, **kwargs\n",
    "        )\n",
    "        contig_window_starts.append(starts)\n",
    "        contig_window_stops.append(stops)\n",
    "        contig_window_contigs.append(np.full_like(starts, i))\n",
    "\n",
    "    window_contigs = np.concatenate(contig_window_contigs)  # type: ignore[no-untyped-call]\n",
    "    window_starts = np.concatenate(contig_window_starts)  # type: ignore[no-untyped-call]\n",
    "    window_stops = np.concatenate(contig_window_stops)  # type: ignore[no-untyped-call]\n",
    "\n",
    "### sgkit window function, window_by_position\n",
    "if step is not None and window_start_position is not None:\n",
    "        raise ValueError(\"Only one of step or window_start_position may be specified\")\n",
    "    step = step or size\n",
    "    positions = ds[variant_position].values\n",
    "    window_start_positions = (\n",
    "        ds[window_start_position].values if window_start_position is not None else None\n",
    "    )\n",
    "    return _window_per_contig(\n",
    "        ds,\n",
    "        variant_contig,\n",
    "        merge,\n",
    "        _get_windows_by_position,\n",
    "        size,\n",
    "        step,\n",
    "        offset,\n",
    "        positions,\n",
    "        window_start_positions,\n",
    "    )"
   ]
  },
  {
   "cell_type": "code",
   "execution_count": 3,
   "id": "d5ff3fa7-15ba-44f9-bd04-aef0b5e3143b",
   "metadata": {},
   "outputs": [],
   "source": [
    "def _windowing(snp_array: list, window_index_array: list):\n",
    "    \"\"\"\n",
    "    Master window function, based on the input index, give back the subset windows in a list\n",
    "    This function is the core function and used for other detailed window_by_* functions.\n",
    "    :param snp_array: The SNP array read by scikit-allel format.\n",
    "    :param window_index_array: The list of tuple (start, end) index of each windows of the SNP array.\n",
    "    \"\"\"\n",
    "    window_list = [snp_array[index_tuple[0]:index_tuple[1]] for index_tuple in window_index_array]\n",
    "    return window_list"
   ]
  },
  {
   "cell_type": "code",
   "execution_count": null,
   "id": "1508ddf6-4f7c-4e0b-9f82-efe9074fb50f",
   "metadata": {},
   "outputs": [],
   "source": [
    "def scikit_allel_slice_window(pos_tuple_array, pos_array, snp_array):\n",
    "    \"\"\"\n",
    "    Find the index of the positions in the pos_array.\n",
    "    Pos_array's position should correspond to the snp_array's SNPs position at the same index.\n",
    "    Utilizing scikit-allele's locate_range and GenotypeArray function, this might be changed when using sgkit packages.\n",
    "    Return a list of SNP windows ready to be parsed by moments.\n",
    "    \"\"\"\n",
    "    sorted_index_pos_array = allel.SortedIndex(pos_array)\n",
    "    gt_region = allel.GenotypeArray(gt_zarr[loc_region])\n",
    "    pos_slice_list = [sorted_index_pos_array.locate_range(pos_tuple[0], pos_tuple[1]) for pos_tuple in pos_tuple_array]\n",
    "    snp_slice_list = [allel.GenotypeArray(snp_array[pos_slice]) for pos_slice in pos_slice_list]\n",
    "    return snp_slice_list\n",
    "    "
   ]
  },
  {
   "cell_type": "code",
   "execution_count": null,
   "id": "095a3d8b-7cdb-45f4-a844-72f8873d0a85",
   "metadata": {},
   "outputs": [],
   "source": [
    "def window_by_reombination(snp_array: list, rec_map: ms.RateMap, rec_start: float, rec_end: float, rec_step = 0.04: float, rec_to_pos_func: scipy.interpolate, ) -> list, list:\n",
    "    \"\"\"\n",
    "    Require msprime >= 1.0.0 to use RateMap\n",
    "    Call this function to get the window list separated by rec_distance\n",
    "    \n",
    "    \"\"\"\n",
    "    ### end has to be larger than start\n",
    "    assert rec_start < rec_end\n",
    "    ### if given rec distance is smaller or equal to the the step \n",
    "    ### return the original array without subsetting\n",
    "    if rec_end - rec_start <= rec_step:\n",
    "        return snp_array\n",
    "    else:\n",
    "        window_index_list = []\n",
    "        window_counts = (rec_end - rec_start)//rec_step\n",
    "        ### convert the rec windows into distance windows \n",
    "        ### get index of positions\n",
    "        \n",
    "        \n",
    "    ### call _windowing function\n",
    "    window_list = _windowing(snp_array, window_index_list)\n",
    "    \n",
    "    "
   ]
  },
  {
   "cell_type": "code",
   "execution_count": null,
   "id": "7ea05f89-3be6-4e30-9835-83c6f658acc8",
   "metadata": {},
   "outputs": [],
   "source": [
    "def window_by_position(rec_start: float, rec_end: float, rec_to_pos_func: scipy.interpolate, rec_step = 0.04: float) -> list, list:\n",
    "    \"\"\"\n",
    "    Call this function just to get list of position in corresponding windows\n",
    "    Return the start position and end position in two lists\n",
    "    \"\"\"\n",
    "    ### end has to be larger than start\n",
    "    assert rec_start < rec_end\n",
    "    if rec_end - rec_start <= rec_step:\n",
    "        return [rec_to_pos_func(rec_start)], [rec_to_pos_func(rec_end)]\n",
    "    else:\n",
    "        window_counts = (rec_end - rec_start)//rec_step\n",
    "        \n",
    "    ### call parsing functions\n",
    "    \n",
    "    "
   ]
  },
  {
   "cell_type": "code",
   "execution_count": null,
   "id": "cdcf55d5-82c9-4dd6-8e87-6a6d2fd0b385",
   "metadata": {},
   "outputs": [],
   "source": [
    "def window_by_counts(rec_start: float, rec_end: float, rec_to_pos_func: scipy.interpolate, rec_step = 0.04: float) -> list, list:\n",
    "    \"\"\"\n",
    "    Call this function just to get list of position in corresponding windows\n",
    "    Return the start position and end position in two lists\n",
    "    \"\"\"\n",
    "    ### end has to be larger than start\n",
    "    assert rec_start < rec_end\n",
    "    if rec_end - rec_start <= rec_step:\n",
    "        return [rec_to_pos_func(rec_start)], [rec_to_pos_func(rec_end)]\n",
    "    else:\n",
    "        window_counts = (rec_end - rec_start)//rec_step\n",
    "        \n",
    "    ### call parsing functions\n",
    "    \n",
    "    "
   ]
  },
  {
   "cell_type": "code",
   "execution_count": null,
   "id": "df7f2e83-cd35-4be3-90ab-0a0252c011dc",
   "metadata": {},
   "outputs": [],
   "source": [
    "def window_Dz(SNP_window):\n",
    "    \"\"\"\n",
    "    \n",
    "    \"\"\"\n",
    "    "
   ]
  },
  {
   "cell_type": "code",
   "execution_count": null,
   "id": "87135ca2-2a48-4cd6-aa51-1b603b8d944a",
   "metadata": {},
   "outputs": [],
   "source": [
    "def subset_Dz_computation(snp_window, max_snp_per_subset = 5000):\n",
    "    \"\"\"\n",
    "    Memory requirement is large when there are too many SNPs in a single calculation.\n",
    "    Ideally the total SNP should be less than 5,000\n",
    "    Subset the Dz caclulation into chunks and return the combined computed values.\n",
    "    \"\"\"\n",
    "    "
   ]
  }
 ],
 "metadata": {
  "kernelspec": {
   "display_name": "Dz_moments_kernel",
   "language": "python",
   "name": "dz_moments"
  },
  "language_info": {
   "codemirror_mode": {
    "name": "ipython",
    "version": 3
   },
   "file_extension": ".py",
   "mimetype": "text/x-python",
   "name": "python",
   "nbconvert_exporter": "python",
   "pygments_lexer": "ipython3",
   "version": "3.9.6"
  }
 },
 "nbformat": 4,
 "nbformat_minor": 5
}

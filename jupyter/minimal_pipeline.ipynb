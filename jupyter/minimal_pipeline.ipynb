{
 "cells": [
  {
   "cell_type": "code",
   "execution_count": 1,
   "id": "b6507bdb-3d0f-45de-a47a-8d1f3717e76a",
   "metadata": {},
   "outputs": [],
   "source": [
    "import pandas as pd\n",
    "import numpy as np\n",
    "import allel\n",
    "import moments.LD\n",
    "import scipy.interpolate\n",
    "import msprime as ms"
   ]
  },
  {
   "cell_type": "markdown",
   "id": "6a238ae4-ae59-46a7-9097-ac7b28866b37",
   "metadata": {
    "tags": []
   },
   "source": [
    "### Preprocessing of 1000G VCF files\n",
    "1. Apply strict mask\n",
    "    - Some sites are not reliably mapped in hg38 and need to be excluded.\n",
    "    - These regions include: repeat regions, pseudogenes, centromeric, and telomeric regions.\n",
    "2. Select only biallelic SNP sites\n",
    "    - A VCF can contain mult-allelic SNPs and structure variants (indels, tandem repeats, etc)\n",
    "    - The biallelic SNP sites are the easiest to work with, and most studies focus on them. \n",
    "\n",
    "\n",
    "\n",
    "This process can take quite a long time, I saved the processed VCFs under ~/projects/ctb-sgravel/data/30x1000G_biallelic_strict_masked <br>\n",
    "The example preprocessing script is provided below and also in the directory's README.md."
   ]
  },
  {
   "cell_type": "code",
   "execution_count": null,
   "id": "fabc073e-9fcf-454f-b7fa-beae6df4e553",
   "metadata": {},
   "outputs": [],
   "source": [
    "%%sh\n",
    "### in bash, preprocess using bcftools\n",
    "### replace variable path\n",
    "chr22_vcf_path='/home/alouette/projects/ctb-sgravel/data/1000G/20201028_CCDG_14151_B01_GRM_WGS_2020-08-05_chr22.recalibrated_variants.vcf.gz'\n",
    "strict_mask_1000G='/home/alouette/projects/ctb-sgravel/data/1000G/masks_and_annotations/20160622.allChr.mask.bed'\n",
    "IntegerT=6\n",
    "module load bcftools\n",
    "bcftools --version | head -1\n",
    "### -Oz output compressed VCF format\n",
    "### -m2 -M2 -v to only view biallellic SNPs\n",
    "### -R subset VCF from region bed file\n",
    "### --threads parallelization currently only works for compression\n",
    "bcftools view -i 'FILTER==\"PASS\"' -Oz -m2 -M2 -v snps -R ${strict_mask_1000G} ${chr22_vcf_path} --threads ${IntegerT} -o \"chr22.strict_masked.vcf.gz\""
   ]
  },
  {
   "cell_type": "markdown",
   "id": "2dcbc011-e194-4fcd-bdc7-9927a96b14c9",
   "metadata": {},
   "source": [
    "bcftools manual: http://samtools.github.io/bcftools/bcftools.html#expressions"
   ]
  },
  {
   "cell_type": "markdown",
   "id": "48adfd5e-cff0-4e8f-a1c4-aae77d6211c0",
   "metadata": {
    "tags": []
   },
   "source": [
    "### Optional: covert the VCF to zarr format for faster retrieval in scikit-allele\n",
    "In sgkit, there might be better approaches. <br>\n",
    "I also completed this step and stored the output in ~/projects/ctb-sgravel/data/30x1000G_biallelic_strict_masked/zarrFormat"
   ]
  },
  {
   "cell_type": "markdown",
   "id": "95655f44-4122-4ce3-9002-624dd19d5e6b",
   "metadata": {},
   "source": [
    "### Population information retrieval\n",
    "1000G stored its population information in a txt file: ~/projects/ctb-sgravel/data/1000G/population_info/20130606_g1k_3202_samples_ped_population.txt <br>\n",
    "This file includes family ID, sample ID, parent ID, sex, population, superpopulation. <br>\n",
    "There are some family trio in 1000G data. I currently exclude the individuals information if any of their parents are also in 1000G. <br>\n"
   ]
  },
  {
   "cell_type": "markdown",
   "id": "69f0f1a0-dede-4454-a5c1-dda92d3961e8",
   "metadata": {},
   "source": [
    "### Formatting the recombination map for pipeline\n",
    "Several recombination maps exist for the human population. Each is computed using specific populations and with specific techniques.<br>\n",
    "Two major formats exist: HapMap format and PLINK format. <br>\n",
    "The main difference is how recombination rate is stored:\n",
    "- HapMap: Chromosome, Position(bp), Rate(cM/Mb)\n",
    "- PLINK: Chromosome, Cumulative Map(cM), Position\n",
    "\n",
    "Recombination rate starts at 0 at the first measured SNP position, instead of starting at the first chromosome position. <br>\n",
    "The current ~/projects/ctb-sgravel/data/genetic_maps contains many maps in Hg37 format. <br>\n",
    "I used the HapMapII map in ~/projects/ctb-sgravel/data/genetic_maps/HapMapII_GRCh38. But transformed it into cumulative Map."
   ]
  },
  {
   "cell_type": "markdown",
   "id": "0c33ad72-636e-46a1-bfc1-8e2a9916c4c6",
   "metadata": {},
   "source": [
    "### Minimal example pipeline: EDAR region in chr2:107,500,000-110,000,000\n",
    "EDAR is an identified sweep in the EAS population."
   ]
  },
  {
   "cell_type": "code",
   "execution_count": null,
   "id": "6e3e46f3-5590-4f6c-9c9b-3b5e3248d691",
   "metadata": {},
   "outputs": [],
   "source": [
    "%%sh\n",
    "chr2_vcf_path='/home/alouette/projects/ctb-sgravel/data/1000G/20201028_CCDG_14151_B01_GRM_WGS_2020-08-05_chr2.recalibrated_variants.vcf.gz'\n",
    "strict_mask_1000G='/home/alouette/projects/ctb-sgravel/data/1000G/masks_and_annotations/20160622.allChr.mask.bed'\n",
    "IntegerT=6\n",
    "module load bcftools\n",
    "### takes 6 min\n",
    "bcftools view -i 'FILTER==\"PASS\"' -Oz -m2 -M2 -v snps -r chr2:107500000-110000000 ${chr2_vcf_path} --threads ${IntegerT} -o \"chr2.EDAR_region.vcf.gz\"\n",
    "bcftools index --threads ${IntegerT} \"chr2.EDAR_region.vcf.gz\"\n",
    "### takes 3 min\n",
    "bcftools view -Oz -R ${strict_mask_1000G} \"chr2.EDAR_region.vcf.gz\" --threads ${IntegerT} -o \"chr2.EDAR_region.strict_mask.vcf.gz\""
   ]
  },
  {
   "cell_type": "code",
   "execution_count": 2,
   "id": "48822fc5-2e63-4d9a-8f8f-ec670a0373e0",
   "metadata": {},
   "outputs": [],
   "source": [
    "def read_vcf(vcf_path:str) -> dict: \n",
    "    \"\"\"\n",
    "    Read in the VCF using scikit-allel, the genotype information is stored in a dict\n",
    "    Optimization: could limit the fields read in, can also specify detailed format like float32\n",
    "    \"\"\"\n",
    "    callset = allel.read_vcf(vcf_path)\n",
    "    return callset"
   ]
  },
  {
   "cell_type": "code",
   "execution_count": 3,
   "id": "723b5160-465f-4006-9709-fe6ff03f9d27",
   "metadata": {},
   "outputs": [],
   "source": [
    "vcf_path = \"chr2.EDAR_region.strict_mask.vcf.gz\"\n",
    "EDAR_callset = read_vcf(vcf_path)"
   ]
  },
  {
   "cell_type": "code",
   "execution_count": 4,
   "id": "39fa0af3-8ba1-4dd4-8111-def0788bc2d3",
   "metadata": {},
   "outputs": [
    {
     "data": {
      "text/plain": [
       "{'samples': array(['HG00096', 'HG00097', 'HG00099', ..., 'NA21142', 'NA21143',\n",
       "        'NA21144'], dtype=object),\n",
       " 'calldata/GT': array([[[0, 0],\n",
       "         [0, 0],\n",
       "         [0, 0],\n",
       "         ...,\n",
       "         [0, 0],\n",
       "         [0, 0],\n",
       "         [0, 0]],\n",
       " \n",
       "        [[0, 0],\n",
       "         [0, 0],\n",
       "         [0, 0],\n",
       "         ...,\n",
       "         [0, 0],\n",
       "         [0, 0],\n",
       "         [0, 0]],\n",
       " \n",
       "        [[0, 0],\n",
       "         [0, 0],\n",
       "         [0, 0],\n",
       "         ...,\n",
       "         [0, 0],\n",
       "         [0, 0],\n",
       "         [0, 0]],\n",
       " \n",
       "        ...,\n",
       " \n",
       "        [[0, 0],\n",
       "         [0, 0],\n",
       "         [0, 0],\n",
       "         ...,\n",
       "         [0, 0],\n",
       "         [0, 0],\n",
       "         [0, 0]],\n",
       " \n",
       "        [[0, 0],\n",
       "         [0, 0],\n",
       "         [0, 0],\n",
       "         ...,\n",
       "         [0, 0],\n",
       "         [0, 0],\n",
       "         [0, 0]],\n",
       " \n",
       "        [[0, 0],\n",
       "         [0, 0],\n",
       "         [0, 0],\n",
       "         ...,\n",
       "         [0, 0],\n",
       "         [0, 0],\n",
       "         [0, 0]]], dtype=int8),\n",
       " 'variants/ALT': array([['G', '', ''],\n",
       "        ['T', '', ''],\n",
       "        ['T', '', ''],\n",
       "        ...,\n",
       "        ['A', '', ''],\n",
       "        ['C', '', ''],\n",
       "        ['G', '', '']], dtype=object),\n",
       " 'variants/CHROM': array(['chr2', 'chr2', 'chr2', ..., 'chr2', 'chr2', 'chr2'], dtype=object),\n",
       " 'variants/FILTER_PASS': array([ True,  True,  True, ...,  True,  True,  True]),\n",
       " 'variants/ID': array(['.', '.', '.', ..., '.', '.', '.'], dtype=object),\n",
       " 'variants/POS': array([107500027, 107500073, 107500170, ..., 109736849, 109742841,\n",
       "        109743205], dtype=int32),\n",
       " 'variants/QUAL': array([  781.65,  1768.47,   398.69, ...,   485.69, 27346.8 ,  1404.62],\n",
       "       dtype=float32),\n",
       " 'variants/REF': array(['A', 'G', 'C', ..., 'T', 'T', 'A'], dtype=object)}"
      ]
     },
     "execution_count": 4,
     "metadata": {},
     "output_type": "execute_result"
    }
   ],
   "source": [
    "EDAR_callset"
   ]
  },
  {
   "cell_type": "code",
   "execution_count": 15,
   "id": "c47473f2-096b-4bc6-b7fc-3d4bf9a0b8c2",
   "metadata": {},
   "outputs": [
    {
     "data": {
      "text/plain": [
       "58860"
      ]
     },
     "execution_count": 15,
     "metadata": {},
     "output_type": "execute_result"
    }
   ],
   "source": [
    "len(EDAR_callset['variants/POS'])"
   ]
  },
  {
   "cell_type": "code",
   "execution_count": 46,
   "id": "40cdd9c1-e6d5-4afa-bdd9-81d63946c1be",
   "metadata": {},
   "outputs": [
    {
     "data": {
      "text/plain": [
       "numpy.ndarray"
      ]
     },
     "execution_count": 46,
     "metadata": {},
     "output_type": "execute_result"
    }
   ],
   "source": [
    "type(EDAR_callset['variants/POS'])"
   ]
  },
  {
   "cell_type": "code",
   "execution_count": 14,
   "id": "2a3e17a2-89f7-47ec-930f-9b5fb6a9b6e6",
   "metadata": {},
   "outputs": [],
   "source": [
    "pos_array = EDAR_callset['variants/POS']\n",
    "#snp_array = EDAR_callset['calldata/GT']"
   ]
  },
  {
   "cell_type": "code",
   "execution_count": 16,
   "id": "791ca8c2-b2d1-410a-9c89-cc6176b282fe",
   "metadata": {},
   "outputs": [
    {
     "data": {
      "text/plain": [
       "107500027"
      ]
     },
     "execution_count": 16,
     "metadata": {},
     "output_type": "execute_result"
    }
   ],
   "source": [
    "np.min(pos_array)"
   ]
  },
  {
   "cell_type": "code",
   "execution_count": 17,
   "id": "18975464-49ab-4863-b5af-57a4e03729a6",
   "metadata": {},
   "outputs": [
    {
     "data": {
      "text/plain": [
       "109743205"
      ]
     },
     "execution_count": 17,
     "metadata": {},
     "output_type": "execute_result"
    }
   ],
   "source": [
    "np.max(pos_array)"
   ]
  },
  {
   "cell_type": "code",
   "execution_count": 5,
   "id": "0224c4a0-30f6-4422-8a2c-ff9665f88e81",
   "metadata": {},
   "outputs": [],
   "source": [
    "def _read_rec_map(rec_map_path: str) -> pd.DataFrame:\n",
    "    \"\"\"\n",
    "    Read the recombination map, normalize between different formats.\n",
    "    Currently set to read from HapMap format, with a one row header\n",
    "    Covert the Rate(cM/MB) to cumulative Rate (cM)\n",
    "    Return a pd.DataFrame\n",
    "    \"\"\"\n",
    "    rec_map_df = pd.read_csv(rec_map_path, sep = \"\\t\", names = [\"Chr\", \"bp\", \"Rate_cM\"], skiprows = 1)\n",
    "    rec_map_df[\"diff_bp\"] = rec_map_df.bp.diff()[1:].reset_index(drop = True)\n",
    "    rec_map_df.diff_bp = rec_map_df.diff_bp.astype(\"Int32\")\n",
    "    rec_map_df[\"cM\"] = rec_map_df.diff_bp * rec_map_df.Rate_cM / 1e6\n",
    "    rec_map_df[\"cum_cM\"] = rec_map_df.cM.cumsum()\n",
    "    return rec_map_df"
   ]
  },
  {
   "cell_type": "code",
   "execution_count": 6,
   "id": "114ff70e-9e5c-44e2-9fa5-13be54995a43",
   "metadata": {},
   "outputs": [],
   "source": [
    "def _msprime_read_HapMap(rec_map_path: str) -> pd.DataFrame:\n",
    "    \"\"\"\n",
    "    Require msprime >= 1.0.0\n",
    "    Read the recombination map using msprime functionality.\n",
    "    Can uses the functionality: get_cumulative_mass(), find_index()\n",
    "    Column 1-2, positions; left: inclusive, right: exclusive\n",
    "    \"\"\"\n",
    "    ms_RateMap = ms.RateMap.read_hapmap(rec_map_path, position_col=1, rate_col=2)\n",
    "    return ms_RateMap"
   ]
  },
  {
   "cell_type": "code",
   "execution_count": 74,
   "id": "aa6d408a-fcb8-4857-a264-515f0a2e8d08",
   "metadata": {},
   "outputs": [],
   "source": [
    "def _bp_to_cM(ms_RateMap: ms.RateMap) -> np.ndarray:\n",
    "    \"\"\"\n",
    "    Return the function transforming bp to cM.\n",
    "    \"\"\"\n",
    "    bp_to_cM_F = scipy.interpolate.interp1d(ms_RateMap.left, np.nancumsum(ms_RateMap.mass)*100, fill_value='extrapolate' )\n",
    "    return bp_to_cM_F"
   ]
  },
  {
   "cell_type": "code",
   "execution_count": 75,
   "id": "565724df-1a78-484a-a020-996ad5373743",
   "metadata": {},
   "outputs": [],
   "source": [
    "def _cM_to_bp(ms_RateMap: ms.RateMap) -> np.ndarray:\n",
    "    \"\"\"\n",
    "    Return the function transforming cM to bp.\n",
    "    \"\"\"\n",
    "    cM_to_bp_F = scipy.interpolate.interp1d(np.nancumsum(ms_RateMap.mass)*100, ms_RateMap.left, fill_value='extrapolate' )\n",
    "    return cM_to_bp_F"
   ]
  },
  {
   "cell_type": "code",
   "execution_count": 33,
   "id": "0d5d63ae-490b-456f-ad56-49903403f071",
   "metadata": {},
   "outputs": [],
   "source": [
    "def _get_bp_from_cum_cM(cM_list: list, ms_RateMap: ms.RateMap) -> np.ndarray:\n",
    "    \"\"\"\n",
    "    Following msprime RateMap get_cumulative_mass functionality for the bp to cumulative cM convertion.\n",
    "    \"\"\"\n",
    "    M_array = np.array(cM_list)/100 ### convert to Morgan\n",
    "    if np.any(M_array < 0) or np.any(M_array > ms_RateMap.total_mass):\n",
    "        raise ValueError(f\"Cannot have cumulative cM < 0 or > {ms_RateMap.total_mass * 100}\")\n",
    "    pos_array = np.interp(M_array, np.nancumsum(ms_RateMap.mass), ms_RateMap.left)\n",
    "    pos_array = pos_array.astype(int)\n",
    "    return pos_array"
   ]
  },
  {
   "cell_type": "code",
   "execution_count": 8,
   "id": "e8d8dd6e-06ae-40ad-bf1c-900a9b3665b9",
   "metadata": {},
   "outputs": [],
   "source": [
    "def _get_cum_cM_from_bp(pos_list: list, ms_RateMap: ms.RateMap) -> np.ndarray:\n",
    "    \"\"\"\n",
    "    Using msprime RateMap functionality\n",
    "    \"\"\"\n",
    "    return ms_RateMap.get_cumulative_mass(pos_list)*100"
   ]
  },
  {
   "cell_type": "code",
   "execution_count": null,
   "id": "91bc2762-1b71-47f8-a87e-d53760be45c4",
   "metadata": {},
   "outputs": [],
   "source": []
  },
  {
   "cell_type": "code",
   "execution_count": 76,
   "id": "a015590b-49b6-4ce6-becb-b08762a2bc32",
   "metadata": {},
   "outputs": [],
   "source": [
    "cM_to_bp_F = _cM_to_bp(rec_map_df)"
   ]
  },
  {
   "cell_type": "code",
   "execution_count": 125,
   "id": "0e2c868c-369f-4574-86c0-9dad8f56a0a8",
   "metadata": {},
   "outputs": [
    {
     "data": {
      "text/plain": [
       "array([1.78351170e+02, 2.66429381e-03])"
      ]
     },
     "execution_count": 125,
     "metadata": {},
     "output_type": "execute_result"
    }
   ],
   "source": [
    "_get_cum_cM_from_bp([133762002, 48232], rec_map_df)"
   ]
  },
  {
   "cell_type": "code",
   "execution_count": 115,
   "id": "89e34d8e-b6a9-406f-95ed-ff2c933dae97",
   "metadata": {},
   "outputs": [
    {
     "data": {
      "text/plain": [
       "133634496"
      ]
     },
     "execution_count": 115,
     "metadata": {},
     "output_type": "execute_result"
    }
   ],
   "source": [
    "_get_bp_from_cum_cM(178.350202, rec_map_df)"
   ]
  },
  {
   "cell_type": "code",
   "execution_count": 58,
   "id": "1cd1a9f8-99fe-4ca4-b794-279160211b6c",
   "metadata": {},
   "outputs": [
    {
     "data": {
      "text/html": [
       "<div>\n",
       "<style scoped>\n",
       "    .dataframe tbody tr th:only-of-type {\n",
       "        vertical-align: middle;\n",
       "    }\n",
       "\n",
       "    .dataframe tbody tr th {\n",
       "        vertical-align: top;\n",
       "    }\n",
       "\n",
       "    .dataframe thead th {\n",
       "        text-align: right;\n",
       "    }\n",
       "</style>\n",
       "<table border=\"1\" class=\"dataframe\">\n",
       "  <thead>\n",
       "    <tr style=\"text-align: right;\">\n",
       "      <th></th>\n",
       "      <th>Chr</th>\n",
       "      <th>bp</th>\n",
       "      <th>Rate_cM</th>\n",
       "      <th>diff_bp</th>\n",
       "      <th>cM</th>\n",
       "      <th>cum_cM</th>\n",
       "    </tr>\n",
       "  </thead>\n",
       "  <tbody>\n",
       "    <tr>\n",
       "      <th>0</th>\n",
       "      <td>chr2</td>\n",
       "      <td>12994</td>\n",
       "      <td>0.339408</td>\n",
       "      <td>2497</td>\n",
       "      <td>0.000848</td>\n",
       "      <td>0.000848</td>\n",
       "    </tr>\n",
       "    <tr>\n",
       "      <th>1</th>\n",
       "      <td>chr2</td>\n",
       "      <td>15491</td>\n",
       "      <td>0.336057</td>\n",
       "      <td>181</td>\n",
       "      <td>0.000061</td>\n",
       "      <td>0.000908</td>\n",
       "    </tr>\n",
       "    <tr>\n",
       "      <th>2</th>\n",
       "      <td>chr2</td>\n",
       "      <td>15672</td>\n",
       "      <td>0.308424</td>\n",
       "      <td>31</td>\n",
       "      <td>0.00001</td>\n",
       "      <td>0.000918</td>\n",
       "    </tr>\n",
       "    <tr>\n",
       "      <th>3</th>\n",
       "      <td>chr2</td>\n",
       "      <td>15703</td>\n",
       "      <td>0.273441</td>\n",
       "      <td>408</td>\n",
       "      <td>0.000112</td>\n",
       "      <td>0.001029</td>\n",
       "    </tr>\n",
       "    <tr>\n",
       "      <th>4</th>\n",
       "      <td>chr2</td>\n",
       "      <td>16111</td>\n",
       "      <td>0.232868</td>\n",
       "      <td>826</td>\n",
       "      <td>0.000192</td>\n",
       "      <td>0.001222</td>\n",
       "    </tr>\n",
       "    <tr>\n",
       "      <th>...</th>\n",
       "      <td>...</td>\n",
       "      <td>...</td>\n",
       "      <td>...</td>\n",
       "      <td>...</td>\n",
       "      <td>...</td>\n",
       "      <td>...</td>\n",
       "    </tr>\n",
       "    <tr>\n",
       "      <th>286388</th>\n",
       "      <td>chr2</td>\n",
       "      <td>242106373</td>\n",
       "      <td>0.122849</td>\n",
       "      <td>236</td>\n",
       "      <td>0.000029</td>\n",
       "      <td>267.431831</td>\n",
       "    </tr>\n",
       "    <tr>\n",
       "      <th>286389</th>\n",
       "      <td>chr2</td>\n",
       "      <td>242106609</td>\n",
       "      <td>0.133203</td>\n",
       "      <td>3571</td>\n",
       "      <td>0.000476</td>\n",
       "      <td>267.432306</td>\n",
       "    </tr>\n",
       "    <tr>\n",
       "      <th>286390</th>\n",
       "      <td>chr2</td>\n",
       "      <td>242110180</td>\n",
       "      <td>0.136364</td>\n",
       "      <td>9179</td>\n",
       "      <td>0.001252</td>\n",
       "      <td>267.433558</td>\n",
       "    </tr>\n",
       "    <tr>\n",
       "      <th>286391</th>\n",
       "      <td>chr2</td>\n",
       "      <td>242119359</td>\n",
       "      <td>0.174241</td>\n",
       "      <td>29487</td>\n",
       "      <td>0.005138</td>\n",
       "      <td>267.438696</td>\n",
       "    </tr>\n",
       "    <tr>\n",
       "      <th>286392</th>\n",
       "      <td>chr2</td>\n",
       "      <td>242148846</td>\n",
       "      <td>0.000000</td>\n",
       "      <td>&lt;NA&gt;</td>\n",
       "      <td>&lt;NA&gt;</td>\n",
       "      <td>&lt;NA&gt;</td>\n",
       "    </tr>\n",
       "  </tbody>\n",
       "</table>\n",
       "<p>286393 rows × 6 columns</p>\n",
       "</div>"
      ],
      "text/plain": [
       "         Chr         bp   Rate_cM  diff_bp        cM      cum_cM\n",
       "0       chr2      12994  0.339408     2497  0.000848    0.000848\n",
       "1       chr2      15491  0.336057      181  0.000061    0.000908\n",
       "2       chr2      15672  0.308424       31   0.00001    0.000918\n",
       "3       chr2      15703  0.273441      408  0.000112    0.001029\n",
       "4       chr2      16111  0.232868      826  0.000192    0.001222\n",
       "...      ...        ...       ...      ...       ...         ...\n",
       "286388  chr2  242106373  0.122849      236  0.000029  267.431831\n",
       "286389  chr2  242106609  0.133203     3571  0.000476  267.432306\n",
       "286390  chr2  242110180  0.136364     9179  0.001252  267.433558\n",
       "286391  chr2  242119359  0.174241    29487  0.005138  267.438696\n",
       "286392  chr2  242148846  0.000000     <NA>      <NA>        <NA>\n",
       "\n",
       "[286393 rows x 6 columns]"
      ]
     },
     "execution_count": 58,
     "metadata": {},
     "output_type": "execute_result"
    }
   ],
   "source": [
    "rec_map_path = \"/home/alouette/projects/ctb-sgravel/data/genetic_maps/HapMapII_GRCh38/genetic_map_Hg38_chr2.txt\"\n",
    "rec_map_df2 = _read_rec_map(rec_map_path)\n",
    "rec_map_df2"
   ]
  },
  {
   "cell_type": "code",
   "execution_count": 100,
   "id": "783f7384-eedf-4056-9d7f-7774e405fe1a",
   "metadata": {},
   "outputs": [
    {
     "data": {
      "text/html": [
       "<div><style scoped=\"\">\n",
       "            .tskit-table thead tr th:only-of-type {vertical-align: middle;}\n",
       "            .tskit-table thead tr th {text-align: center;vertical-align: top;}\n",
       "            .tskit-table tbody td {text-align: right;padding: 0.5em 0.5em;}\n",
       "            .tskit-table tbody th {padding: 0.5em 0.5em;}\n",
       "        </style><b></b><table border=\"1\" class=\"tskit-table\"><thead><tr><th>left</th><th>right</th><th>mid</th><th>span</th><th>rate</th></tr></thead><tbody><tr><td>0</td><td>26829</td><td>13414.5</td><td>26829</td><td>nan</td></tr><tr><td>26829</td><td>48232</td><td>37530.5</td><td>21403</td><td>1.2e-09</td></tr><tr><td>48232</td><td>48486</td><td>48359</td><td>254</td><td>1.6e-09</td></tr><tr><td>48486</td><td>50009</td><td>49247.5</td><td>1523</td><td>1.6e-09</td></tr><tr><td>50009</td><td>52147</td><td>51078</td><td>2138</td><td>1.6e-09</td></tr><tr><td>52147</td><td>52541</td><td>52344</td><td>394</td><td>1.6e-09</td></tr><tr><td>52541</td><td>64718</td><td>58629.5</td><td>12177</td><td>1.6e-09</td></tr><tr><td>64718</td><td>66015</td><td>65366.5</td><td>1297</td><td>1.6e-09</td></tr><tr><td>66015</td><td>67284</td><td>66649.5</td><td>1269</td><td>1.6e-09</td></tr><tr><td>67284</td><td>67994</td><td>67639</td><td>710</td><td>1.7e-09</td></tr><tr><td>⋯</td><td>⋯</td><td>⋯</td><td>⋯</td><td>⋯</td></tr><tr><td>133620261</td><td>133620730</td><td>133620495.5</td><td>469</td><td>1.1e-08</td></tr><tr><td>133620730</td><td>133620799</td><td>133620764.5</td><td>69</td><td>1.9e-08</td></tr><tr><td>133620799</td><td>133621047</td><td>133620923</td><td>248</td><td>2.4e-08</td></tr><tr><td>133621047</td><td>133621061</td><td>133621054</td><td>14</td><td>2.9e-08</td></tr><tr><td>133621061</td><td>133629600</td><td>133625330.5</td><td>8539</td><td>3.3e-08</td></tr><tr><td>133629600</td><td>133633304</td><td>133631452</td><td>3704</td><td>3.3e-08</td></tr><tr><td>133633304</td><td>133634467</td><td>133633885.5</td><td>1163</td><td>3.3e-08</td></tr><tr><td>133634467</td><td>133761838</td><td>133698152.5</td><td>127371</td><td>1.3e-08</td></tr><tr><td>133761838</td><td>133762002</td><td>133761920</td><td>164</td><td>5.9e-08</td></tr><tr><td>133762002</td><td>133766368</td><td>133764185</td><td>4366</td><td>3.4e-08</td></tr></tbody></table></div>"
      ],
      "text/plain": [
       "RateMap(position=array([0.00000000e+00, 2.68290000e+04, 4.82320000e+04, ...,\n",
       "       1.33761838e+08, 1.33762002e+08, 1.33766368e+08]), rate=array([           nan, 1.24482260e-09, 1.60359000e-09, ...,\n",
       "       1.32408433e-08, 5.90607800e-08, 3.35862100e-08]))"
      ]
     },
     "execution_count": 100,
     "metadata": {},
     "output_type": "execute_result"
    }
   ],
   "source": [
    "rec_map_df"
   ]
  },
  {
   "cell_type": "code",
   "execution_count": 33,
   "id": "e86a60da-6de5-487d-8b9a-82c913ab6896",
   "metadata": {},
   "outputs": [
    {
     "data": {
      "text/plain": [
       "1.783658341121365"
      ]
     },
     "execution_count": 33,
     "metadata": {},
     "output_type": "execute_result"
    }
   ],
   "source": [
    "rec_map_msprime.get_cumulative_mass(133766368)"
   ]
  },
  {
   "cell_type": "code",
   "execution_count": 60,
   "id": "d318c873-b37b-4c79-9b40-18ffc8fa7f3f",
   "metadata": {},
   "outputs": [],
   "source": [
    "bp_to_cM_F = rec_map_interpolate(rec_map_df)"
   ]
  },
  {
   "cell_type": "code",
   "execution_count": 61,
   "id": "8ce60691-a95a-42d2-a05d-02da60cd09bf",
   "metadata": {},
   "outputs": [
    {
     "data": {
      "text/plain": [
       "array([0.00525299, 0.0052575 , 0.005267  , ..., 2.73506194, 2.73505867,\n",
       "       2.73505847])"
      ]
     },
     "execution_count": 61,
     "metadata": {},
     "output_type": "execute_result"
    }
   ],
   "source": [
    "bp_to_centimorgan(EDAR_callset['variants/POS'], rec_map_df)"
   ]
  },
  {
   "cell_type": "markdown",
   "id": "c2a20a2a-c751-4a2a-9b88-fd12af91ad01",
   "metadata": {},
   "source": [
    "### sgkit window function inspiration \n",
    "\n",
    "sgkit has 3 windowing functions: by variant, by position, and by genome."
   ]
  },
  {
   "cell_type": "code",
   "execution_count": null,
   "id": "b7ff849b-be2a-4304-bab5-04650f9db922",
   "metadata": {},
   "outputs": [],
   "source": [
    "### sgkit window master function functions\n",
    "    n_variants = ds.sizes[\"variants\"]\n",
    "    n_contigs = num_contigs(ds)\n",
    "    contig_ids = np.arange(n_contigs)\n",
    "    variant_contig = ds[\"variant_contig\"]\n",
    "    contig_starts = np.searchsorted(variant_contig.values, contig_ids)\n",
    "    contig_bounds = np.append(contig_starts, [n_variants], axis=0)  # type: ignore[no-untyped-call]\n",
    "\n",
    "    contig_window_contigs = []\n",
    "    contig_window_starts = []\n",
    "    contig_window_stops = []\n",
    "    for i, contig in enumerate(get_contigs(ds)):\n",
    "        starts, stops = windowing_fn(\n",
    "            contig, contig_bounds[i], contig_bounds[i + 1], *args, **kwargs\n",
    "        )\n",
    "        contig_window_starts.append(starts)\n",
    "        contig_window_stops.append(stops)\n",
    "        contig_window_contigs.append(np.full_like(starts, i))\n",
    "\n",
    "    window_contigs = np.concatenate(contig_window_contigs)  # type: ignore[no-untyped-call]\n",
    "    window_starts = np.concatenate(contig_window_starts)  # type: ignore[no-untyped-call]\n",
    "    window_stops = np.concatenate(contig_window_stops)  # type: ignore[no-untyped-call]\n",
    "\n",
    "### sgkit window function, window_by_position\n",
    "if step is not None and window_start_position is not None:\n",
    "        raise ValueError(\"Only one of step or window_start_position may be specified\")\n",
    "    step = step or size\n",
    "    positions = ds[variant_position].values\n",
    "    window_start_positions = (\n",
    "        ds[window_start_position].values if window_start_position is not None else None\n",
    "    )\n",
    "    return _window_per_contig(\n",
    "        ds,\n",
    "        variant_contig,\n",
    "        merge,\n",
    "        _get_windows_by_position,\n",
    "        size,\n",
    "        step,\n",
    "        offset,\n",
    "        positions,\n",
    "        window_start_positions,\n",
    "    )"
   ]
  },
  {
   "cell_type": "code",
   "execution_count": 70,
   "id": "d5ff3fa7-15ba-44f9-bd04-aef0b5e3143b",
   "metadata": {},
   "outputs": [],
   "source": [
    "def _windowing(snp_pos: list, window_pos_list:list) -> list:\n",
    "    \"\"\"\n",
    "    Master window function, based on the input bp, give back the subset windows in a list\n",
    "    This function is the core function and used for other detailed window_by_* functions.\n",
    "    :param snp_array: The SNP array read by scikit-allel format.\n",
    "    :param window_index_array: The list of tuple (start, end) index of each windows of the SNP array.\n",
    "    Return a list of slices\n",
    "    \"\"\"\n",
    "    if np.any(window_pos_list) < 0 or np.max(window_pos_list) > np.max(snp_pos) or np.min(window_pos_list) > np.min(snp_pos):\n",
    "        raise ValueError(f\"Window positions out of bounds\")\n",
    "    if not np.all(np.diff(snp_pos) > 0):\n",
    "        raise ValueError(f\"SNP positions are not in asending order\")\n",
    "    if not np.all(np.diff(window_pos_list) > 0):\n",
    "        raise ValueError(f\"Window positions are not in asending order\")\n",
    "    window_list = []\n",
    "    for start, end in zip(window_pos_list[:-1], window_pos_list[1:]):\n",
    "        start_index =np.searchsorted(snp_pos, start, side='right')\n",
    "        end_index = np.searchsorted(snp_pos, end, side='right')\n",
    "        if start_index == end_index:\n",
    "            ### recombination hotspot can result in no SNPs in the slice\n",
    "            continue\n",
    "        window_list.append(slice(start_index, end_index))\n",
    "    ### next step requires loading the data, do it when in need\n",
    "    return window_list"
   ]
  },
  {
   "cell_type": "code",
   "execution_count": 69,
   "id": "ff65f940-ba19-4ba6-880c-7ac364d070ea",
   "metadata": {},
   "outputs": [
    {
     "data": {
      "text/html": [
       "<div class=\"allel allel-DisplayAs1D\"><span>&lt;SortedIndex shape=(58860,) dtype=int32&gt;</span><table><thead><tr><th style=\"text-align: center\">0</th><th style=\"text-align: center\">1</th><th style=\"text-align: center\">2</th><th style=\"text-align: center\">3</th><th style=\"text-align: center\">4</th><th style=\"text-align: center\">...</th><th style=\"text-align: center\">58855</th><th style=\"text-align: center\">58856</th><th style=\"text-align: center\">58857</th><th style=\"text-align: center\">58858</th><th style=\"text-align: center\">58859</th></tr></thead><tbody><tr><td style=\"text-align: center\">107500027</td><td style=\"text-align: center\">107500073</td><td style=\"text-align: center\">107500170</td><td style=\"text-align: center\">107500252</td><td style=\"text-align: center\">107500306</td><td style=\"text-align: center\">...</td><td style=\"text-align: center\">109736633</td><td style=\"text-align: center\">109736825</td><td style=\"text-align: center\">109736849</td><td style=\"text-align: center\">109742841</td><td style=\"text-align: center\">109743205</td></tr></tbody></table></div>"
      ],
      "text/plain": [
       "<SortedIndex shape=(58860,) dtype=int32>\n",
       "[107500027, 107500073, 107500170, 107500252, 107500306, ..., 109736633, 109736825, 109736849, 109742841, 109743205]"
      ]
     },
     "execution_count": 69,
     "metadata": {},
     "output_type": "execute_result"
    }
   ],
   "source": [
    "index_snp_pos"
   ]
  },
  {
   "cell_type": "code",
   "execution_count": 62,
   "id": "2276c922-a34e-4304-9118-f9b5085c1fbd",
   "metadata": {},
   "outputs": [
    {
     "data": {
      "text/plain": [
       "slice(9827, 58860, None)"
      ]
     },
     "execution_count": 62,
     "metadata": {},
     "output_type": "execute_result"
    }
   ],
   "source": [
    "index_snp_pos = allel.SortedIndex(pos_array)\n",
    "index_snp_pos.locate_range(107811389)"
   ]
  },
  {
   "cell_type": "code",
   "execution_count": 71,
   "id": "095a3d8b-7cdb-45f4-a844-72f8873d0a85",
   "metadata": {},
   "outputs": [],
   "source": [
    "def window_by_reombination(pos_array: list, rec_map: ms.RateMap, rec_start: float, rec_end: float, rec_step = 0.04) -> list:\n",
    "    \"\"\"\n",
    "    Require msprime >= 1.0.0 to use RateMap\n",
    "    Call this function to get the window list separated by rec_distance\n",
    "    How to handle the last position if rec subsetting is not possible?\n",
    "    \"\"\"\n",
    "    ### end has to be larger than start\n",
    "    if rec_start >= rec_end:\n",
    "        raise ValueError(f\"Input recombination range is invalid\")\n",
    "    ### if given rec distance is smaller or equal to the the step \n",
    "    ### return the original array without subsetting\n",
    "    if rec_end - rec_start <= rec_step:\n",
    "        rec_list = [rec_start, rec_end]                    \n",
    "    else:\n",
    "        rec_list = np.arange(start = rec_start, stop = rec_end, step = rec_step)\n",
    "        ### check the last position\n",
    "        ### floating point issue, the last position can be larger than end\n",
    "        if rec_list[-1] > rec_end:\n",
    "            rec_list[-1] = rec_end\n",
    "    print(rec_list)\n",
    "    ### get bp positions\n",
    "    bp_array = _get_bp_from_cum_cM(rec_list, rec_map)\n",
    "    print(bp_array)\n",
    "    ### call _windowing function\n",
    "    window_list = _windowing(pos_array, bp_array)\n",
    "    return window_list\n",
    "    \n",
    "    "
   ]
  },
  {
   "cell_type": "code",
   "execution_count": 72,
   "id": "52fdff79-e306-4603-ab20-b15aed7a5f4b",
   "metadata": {},
   "outputs": [
    {
     "name": "stdout",
     "output_type": "stream",
     "text": [
      "[125.53773142 125.57773142 125.61773142 125.65773142 125.69773142\n",
      " 125.73773142 125.77773142 125.81773142 125.85773142 125.89773142\n",
      " 125.93773142 125.97773142 126.01773142 126.05773142 126.09773142\n",
      " 126.13773142 126.17773142 126.21773142 126.25773142 126.29773142\n",
      " 126.33773142 126.37773142 126.41773142 126.45773142 126.49773142\n",
      " 126.53773142 126.57773142 126.61773142 126.65773142 126.69773142\n",
      " 126.73773142 126.77773142 126.81773142 126.85773142 126.89773142\n",
      " 126.93773142 126.97773142 127.01773142 127.05773142 127.09773142\n",
      " 127.13773142 127.17773142 127.21773142 127.25773142 127.29773142\n",
      " 127.33773142 127.37773142 127.41773142 127.45773142 127.49773142\n",
      " 127.53773142 127.57773142 127.61773142 127.65773142 127.69773142\n",
      " 127.73773142]\n",
      "[107499693 107538848 107686795 107746830 107766953 107811513 107811544\n",
      " 107815310 107994804 108008430 108026986 108101392 108104822 108163768\n",
      " 108278373 108311081 108311184 108311286 108318695 108330509 108331644\n",
      " 108473257 108712912 108923464 108923555 108926402 108966586 108987480\n",
      " 109009991 109010465 109022639 109036344 109058466 109084906 109204247\n",
      " 109300079 109342143 109385605 109386185 109432862 109479536 109482107\n",
      " 109485437 109499790 109500297 109500804 109515295 109646036 109675724\n",
      " 109678021 109684261 109691306 109693991 109701994 109702079 109702164]\n"
     ]
    }
   ],
   "source": [
    "pos_array = EDAR_callset['variants/POS']\n",
    "rec_map_path = \"/home/alouette/projects/ctb-sgravel/data/genetic_maps/HapMapII_GRCh38/genetic_map_Hg38_chr2.txt\"\n",
    "ms_RateMap = _msprime_read_HapMap(rec_map_path)\n",
    "rec_range = _get_cum_cM_from_bp([pos_array.min(), pos_array.max()], ms_RateMap)\n",
    "window_list = window_by_reombination(pos_array, ms_RateMap, rec_range[0], rec_range[1], 0.04)"
   ]
  },
  {
   "cell_type": "code",
   "execution_count": 73,
   "id": "24e59d58-13fa-4e2c-a29c-fb0e87705f37",
   "metadata": {},
   "outputs": [
    {
     "data": {
      "text/plain": [
       "[slice(0, 1276, None),\n",
       " slice(1276, 5953, None),\n",
       " slice(5953, 7781, None),\n",
       " slice(7781, 8432, None),\n",
       " slice(8432, 9831, None),\n",
       " slice(9831, 9949, None),\n",
       " slice(9949, 12366, None),\n",
       " slice(12366, 12755, None),\n",
       " slice(12755, 13300, None),\n",
       " slice(13300, 15494, None),\n",
       " slice(15494, 15599, None),\n",
       " slice(15599, 17232, None),\n",
       " slice(17232, 20372, None),\n",
       " slice(20372, 21297, None),\n",
       " slice(21297, 21492, None),\n",
       " slice(21492, 21870, None),\n",
       " slice(21870, 21917, None),\n",
       " slice(21917, 25438, None),\n",
       " slice(25438, 29554, None),\n",
       " slice(29554, 33818, None),\n",
       " slice(33818, 33822, None),\n",
       " slice(33822, 33929, None),\n",
       " slice(33929, 35139, None),\n",
       " slice(35139, 35847, None),\n",
       " slice(35847, 36446, None),\n",
       " slice(36446, 36461, None),\n",
       " slice(36461, 36834, None),\n",
       " slice(36834, 37207, None),\n",
       " slice(37207, 37791, None),\n",
       " slice(37791, 38572, None),\n",
       " slice(38572, 42086, None),\n",
       " slice(42086, 45357, None),\n",
       " slice(45357, 46801, None),\n",
       " slice(46801, 48398, None),\n",
       " slice(48398, 48417, None),\n",
       " slice(48417, 50315, None),\n",
       " slice(50315, 51913, None),\n",
       " slice(51913, 52016, None),\n",
       " slice(52016, 52121, None),\n",
       " slice(52121, 52717, None),\n",
       " slice(52717, 52732, None),\n",
       " slice(52732, 52748, None),\n",
       " slice(52748, 53346, None),\n",
       " slice(53346, 56649, None),\n",
       " slice(56649, 57412, None),\n",
       " slice(57412, 57481, None),\n",
       " slice(57481, 57661, None),\n",
       " slice(57661, 57838, None),\n",
       " slice(57838, 57927, None),\n",
       " slice(57927, 58118, None),\n",
       " slice(58118, 58122, None),\n",
       " slice(58122, 58126, None)]"
      ]
     },
     "execution_count": 73,
     "metadata": {},
     "output_type": "execute_result"
    }
   ],
   "source": [
    "window_list"
   ]
  },
  {
   "cell_type": "code",
   "execution_count": 20,
   "id": "e4f2a9bc-0db4-493b-843f-68d66080a268",
   "metadata": {},
   "outputs": [
    {
     "data": {
      "text/plain": [
       "107500027"
      ]
     },
     "execution_count": 20,
     "metadata": {},
     "output_type": "execute_result"
    }
   ],
   "source": [
    "pos_array.min()"
   ]
  },
  {
   "cell_type": "code",
   "execution_count": 21,
   "id": "13c13e72-b14f-4fec-b2b3-056cf09ce8c2",
   "metadata": {},
   "outputs": [
    {
     "data": {
      "text/plain": [
       "109743205"
      ]
     },
     "execution_count": 21,
     "metadata": {},
     "output_type": "execute_result"
    }
   ],
   "source": [
    "pos_array.max()"
   ]
  },
  {
   "cell_type": "code",
   "execution_count": 52,
   "id": "6a21cf22-082d-487f-8f39-78cb9c65db04",
   "metadata": {},
   "outputs": [
    {
     "data": {
      "text/plain": [
       "array([107811389, 107811533])"
      ]
     },
     "execution_count": 52,
     "metadata": {},
     "output_type": "execute_result"
    }
   ],
   "source": [
    "np.interp([1.2572175346, 1.2576300247], np.nancumsum(ms_RateMap.mass), ms_RateMap.left).astype(int)"
   ]
  },
  {
   "cell_type": "code",
   "execution_count": 53,
   "id": "12fd4067-531e-4725-9250-202138807d96",
   "metadata": {},
   "outputs": [
    {
     "data": {
      "text/plain": [
       "array([125.72130564, 125.72255928])"
      ]
     },
     "execution_count": 53,
     "metadata": {},
     "output_type": "execute_result"
    }
   ],
   "source": [
    "_get_cum_cM_from_bp([107811389, 107811533], ms_RateMap)"
   ]
  },
  {
   "cell_type": "code",
   "execution_count": 59,
   "id": "f128f736-28e3-443e-93c2-7aad217fb433",
   "metadata": {},
   "outputs": [
    {
     "data": {
      "text/html": [
       "<div>\n",
       "<style scoped>\n",
       "    .dataframe tbody tr th:only-of-type {\n",
       "        vertical-align: middle;\n",
       "    }\n",
       "\n",
       "    .dataframe tbody tr th {\n",
       "        vertical-align: top;\n",
       "    }\n",
       "\n",
       "    .dataframe thead th {\n",
       "        text-align: right;\n",
       "    }\n",
       "</style>\n",
       "<table border=\"1\" class=\"dataframe\">\n",
       "  <thead>\n",
       "    <tr style=\"text-align: right;\">\n",
       "      <th></th>\n",
       "      <th>Chr</th>\n",
       "      <th>bp</th>\n",
       "      <th>Rate_cM</th>\n",
       "      <th>diff_bp</th>\n",
       "      <th>cM</th>\n",
       "      <th>cum_cM</th>\n",
       "    </tr>\n",
       "  </thead>\n",
       "  <tbody>\n",
       "    <tr>\n",
       "      <th>131177</th>\n",
       "      <td>chr2</td>\n",
       "      <td>107811503</td>\n",
       "      <td>40.290651</td>\n",
       "      <td>58</td>\n",
       "      <td>0.002337</td>\n",
       "      <td>125.723687</td>\n",
       "    </tr>\n",
       "    <tr>\n",
       "      <th>131178</th>\n",
       "      <td>chr2</td>\n",
       "      <td>107811561</td>\n",
       "      <td>47.127122</td>\n",
       "      <td>1590</td>\n",
       "      <td>0.074932</td>\n",
       "      <td>125.79862</td>\n",
       "    </tr>\n",
       "    <tr>\n",
       "      <th>131179</th>\n",
       "      <td>chr2</td>\n",
       "      <td>107813151</td>\n",
       "      <td>47.127122</td>\n",
       "      <td>31</td>\n",
       "      <td>0.001461</td>\n",
       "      <td>125.80008</td>\n",
       "    </tr>\n",
       "    <tr>\n",
       "      <th>131180</th>\n",
       "      <td>chr2</td>\n",
       "      <td>107813182</td>\n",
       "      <td>47.127122</td>\n",
       "      <td>50</td>\n",
       "      <td>0.002356</td>\n",
       "      <td>125.802437</td>\n",
       "    </tr>\n",
       "    <tr>\n",
       "      <th>131181</th>\n",
       "      <td>chr2</td>\n",
       "      <td>107813232</td>\n",
       "      <td>47.127122</td>\n",
       "      <td>83</td>\n",
       "      <td>0.003912</td>\n",
       "      <td>125.806348</td>\n",
       "    </tr>\n",
       "    <tr>\n",
       "      <th>...</th>\n",
       "      <td>...</td>\n",
       "      <td>...</td>\n",
       "      <td>...</td>\n",
       "      <td>...</td>\n",
       "      <td>...</td>\n",
       "      <td>...</td>\n",
       "    </tr>\n",
       "    <tr>\n",
       "      <th>286388</th>\n",
       "      <td>chr2</td>\n",
       "      <td>242106373</td>\n",
       "      <td>0.122849</td>\n",
       "      <td>236</td>\n",
       "      <td>0.000029</td>\n",
       "      <td>267.431831</td>\n",
       "    </tr>\n",
       "    <tr>\n",
       "      <th>286389</th>\n",
       "      <td>chr2</td>\n",
       "      <td>242106609</td>\n",
       "      <td>0.133203</td>\n",
       "      <td>3571</td>\n",
       "      <td>0.000476</td>\n",
       "      <td>267.432306</td>\n",
       "    </tr>\n",
       "    <tr>\n",
       "      <th>286390</th>\n",
       "      <td>chr2</td>\n",
       "      <td>242110180</td>\n",
       "      <td>0.136364</td>\n",
       "      <td>9179</td>\n",
       "      <td>0.001252</td>\n",
       "      <td>267.433558</td>\n",
       "    </tr>\n",
       "    <tr>\n",
       "      <th>286391</th>\n",
       "      <td>chr2</td>\n",
       "      <td>242119359</td>\n",
       "      <td>0.174241</td>\n",
       "      <td>29487</td>\n",
       "      <td>0.005138</td>\n",
       "      <td>267.438696</td>\n",
       "    </tr>\n",
       "    <tr>\n",
       "      <th>286392</th>\n",
       "      <td>chr2</td>\n",
       "      <td>242148846</td>\n",
       "      <td>0.000000</td>\n",
       "      <td>&lt;NA&gt;</td>\n",
       "      <td>&lt;NA&gt;</td>\n",
       "      <td>&lt;NA&gt;</td>\n",
       "    </tr>\n",
       "  </tbody>\n",
       "</table>\n",
       "<p>155216 rows × 6 columns</p>\n",
       "</div>"
      ],
      "text/plain": [
       "         Chr         bp    Rate_cM  diff_bp        cM      cum_cM\n",
       "131177  chr2  107811503  40.290651       58  0.002337  125.723687\n",
       "131178  chr2  107811561  47.127122     1590  0.074932   125.79862\n",
       "131179  chr2  107813151  47.127122       31  0.001461   125.80008\n",
       "131180  chr2  107813182  47.127122       50  0.002356  125.802437\n",
       "131181  chr2  107813232  47.127122       83  0.003912  125.806348\n",
       "...      ...        ...        ...      ...       ...         ...\n",
       "286388  chr2  242106373   0.122849      236  0.000029  267.431831\n",
       "286389  chr2  242106609   0.133203     3571  0.000476  267.432306\n",
       "286390  chr2  242110180   0.136364     9179  0.001252  267.433558\n",
       "286391  chr2  242119359   0.174241    29487  0.005138  267.438696\n",
       "286392  chr2  242148846   0.000000     <NA>      <NA>        <NA>\n",
       "\n",
       "[155216 rows x 6 columns]"
      ]
     },
     "execution_count": 59,
     "metadata": {},
     "output_type": "execute_result"
    }
   ],
   "source": [
    "rec_map_df2[rec_map_df2.bp >= 107811389]"
   ]
  },
  {
   "cell_type": "code",
   "execution_count": null,
   "id": "7ea05f89-3be6-4e30-9835-83c6f658acc8",
   "metadata": {},
   "outputs": [],
   "source": [
    "def window_by_position(rec_start: float, rec_end: float, rec_to_pos_func: scipy.interpolate, rec_step = 0.04: float) -> list, list:\n",
    "    \"\"\"\n",
    "    Call this function just to get list of position in corresponding windows\n",
    "    Return the start position and end position in two lists\n",
    "    \"\"\"\n",
    "    ### end has to be larger than start\n",
    "    assert rec_start < rec_end\n",
    "    if rec_end - rec_start <= rec_step:\n",
    "        return [rec_to_pos_func(rec_start)], [rec_to_pos_func(rec_end)]\n",
    "    else:\n",
    "        window_counts = (rec_end - rec_start)//rec_step\n",
    "        \n",
    "    ### call parsing functions\n",
    "    \n",
    "    "
   ]
  },
  {
   "cell_type": "code",
   "execution_count": null,
   "id": "cdcf55d5-82c9-4dd6-8e87-6a6d2fd0b385",
   "metadata": {},
   "outputs": [],
   "source": [
    "def window_by_counts(rec_start: float, rec_end: float, rec_to_pos_func: scipy.interpolate, rec_step = 0.04: float) -> list, list:\n",
    "    \"\"\"\n",
    "    Call this function just to get list of position in corresponding windows\n",
    "    Return the start position and end position in two lists\n",
    "    \"\"\"\n",
    "    ### end has to be larger than start\n",
    "    assert rec_start < rec_end\n",
    "    if rec_end - rec_start <= rec_step:\n",
    "        return [rec_to_pos_func(rec_start)], [rec_to_pos_func(rec_end)]\n",
    "    else:\n",
    "        window_counts = (rec_end - rec_start)//rec_step\n",
    "        \n",
    "    ### call parsing functions\n",
    "    \n",
    "    "
   ]
  },
  {
   "cell_type": "code",
   "execution_count": null,
   "id": "df7f2e83-cd35-4be3-90ab-0a0252c011dc",
   "metadata": {},
   "outputs": [],
   "source": [
    "def window_Dz(SNP_window):\n",
    "    \"\"\"\n",
    "    \n",
    "    \"\"\"\n",
    "    "
   ]
  },
  {
   "cell_type": "code",
   "execution_count": null,
   "id": "87135ca2-2a48-4cd6-aa51-1b603b8d944a",
   "metadata": {},
   "outputs": [],
   "source": [
    "def subset_Dz_computation(snp_window, max_snp_per_subset = 5000):\n",
    "    \"\"\"\n",
    "    Memory requirement is large when there are too many SNPs in a single calculation.\n",
    "    Ideally the total SNP should be less than 5,000\n",
    "    Subset the Dz caclulation into chunks and return the combined computed values.\n",
    "    \"\"\"\n",
    "    "
   ]
  }
 ],
 "metadata": {
  "kernelspec": {
   "display_name": "Dz_moments_kernel",
   "language": "python",
   "name": "dz_moments"
  },
  "language_info": {
   "codemirror_mode": {
    "name": "ipython",
    "version": 3
   },
   "file_extension": ".py",
   "mimetype": "text/x-python",
   "name": "python",
   "nbconvert_exporter": "python",
   "pygments_lexer": "ipython3",
   "version": "3.9.6"
  }
 },
 "nbformat": 4,
 "nbformat_minor": 5
}

{
 "cells": [
  {
   "cell_type": "code",
   "execution_count": 34,
   "id": "b6507bdb-3d0f-45de-a47a-8d1f3717e76a",
   "metadata": {},
   "outputs": [],
   "source": [
    "import pandas as pd\n",
    "import numpy as np\n",
    "import allel\n",
    "import moments.LD\n",
    "import scipy.interpolate\n",
    "import msprime as ms\n",
    "import matplotlib.pyplot as plt\n",
    "#from Windowing import *\n",
    "#from Locus_selection import *"
   ]
  },
  {
   "cell_type": "markdown",
   "id": "6a238ae4-ae59-46a7-9097-ac7b28866b37",
   "metadata": {
    "tags": []
   },
   "source": [
    "### Preprocessing of 1000G VCF files\n",
    "1. Apply strict mask\n",
    "    - Some sites are not reliably mapped in hg38 and need to be excluded.\n",
    "    - These regions include: repeat regions, pseudogenes, centromeric, and telomeric regions.\n",
    "2. Select only biallelic SNP sites\n",
    "    - A VCF can contain mult-allelic SNPs and structure variants (indels, tandem repeats, etc)\n",
    "    - The biallelic SNP sites are the easiest to work with, and most studies focus on them. \n",
    "\n",
    "\n",
    "\n",
    "This process can take quite a long time, I saved the processed VCFs under ~/projects/ctb-sgravel/data/30x1000G_biallelic_strict_masked <br>\n",
    "The example preprocessing script is provided below and also in the directory's README.md."
   ]
  },
  {
   "cell_type": "code",
   "execution_count": null,
   "id": "fabc073e-9fcf-454f-b7fa-beae6df4e553",
   "metadata": {},
   "outputs": [],
   "source": [
    "%%sh\n",
    "### in bash, preprocess using bcftools\n",
    "### replace variable path\n",
    "chr22_vcf_path='/home/alouette/projects/ctb-sgravel/data/1000G/20201028_CCDG_14151_B01_GRM_WGS_2020-08-05_chr22.recalibrated_variants.vcf.gz'\n",
    "strict_mask_1000G='/home/alouette/projects/ctb-sgravel/data/1000G/masks_and_annotations/20160622.allChr.mask.bed'\n",
    "IntegerT=6\n",
    "module load bcftools\n",
    "bcftools --version | head -1\n",
    "### -Oz output compressed VCF format\n",
    "### -m2 -M2 -v to only view biallellic SNPs\n",
    "### -R subset VCF from region bed file\n",
    "### --threads parallelization currently only works for compression\n",
    "bcftools view -i 'FILTER==\"PASS\"' -Oz -m2 -M2 -v snps -R ${strict_mask_1000G} ${chr22_vcf_path} --threads ${IntegerT} -o \"chr22.strict_masked.vcf.gz\""
   ]
  },
  {
   "cell_type": "markdown",
   "id": "2dcbc011-e194-4fcd-bdc7-9927a96b14c9",
   "metadata": {},
   "source": [
    "bcftools manual: http://samtools.github.io/bcftools/bcftools.html#expressions"
   ]
  },
  {
   "cell_type": "markdown",
   "id": "48adfd5e-cff0-4e8f-a1c4-aae77d6211c0",
   "metadata": {
    "tags": []
   },
   "source": [
    "### Optional: covert the VCF to zarr format for faster retrieval in scikit-allele\n",
    "In sgkit, there might be better approaches. <br>\n",
    "I also completed this step and stored the output in ~/projects/ctb-sgravel/data/30x1000G_biallelic_strict_masked/zarrFormat"
   ]
  },
  {
   "cell_type": "markdown",
   "id": "95655f44-4122-4ce3-9002-624dd19d5e6b",
   "metadata": {},
   "source": [
    "### Population information retrieval\n",
    "1000G stored its population information in a txt file: ~/projects/ctb-sgravel/data/1000G/population_info/20130606_g1k_3202_samples_ped_population.txt <br>\n",
    "This file includes family ID, sample ID, parent ID, sex, population, superpopulation. <br>\n",
    "There are some family trio in 1000G data. I currently exclude the individuals information if any of their parents are also in 1000G. <br>\n"
   ]
  },
  {
   "cell_type": "markdown",
   "id": "69f0f1a0-dede-4454-a5c1-dda92d3961e8",
   "metadata": {},
   "source": [
    "### Formatting the recombination map for pipeline\n",
    "Several recombination maps exist for the human population. Each is computed using specific populations and with specific techniques.<br>\n",
    "Two major formats exist: HapMap format and PLINK format. <br>\n",
    "The main difference is how recombination rate is stored:\n",
    "- HapMap: Chromosome, Position(bp), Rate(cM/Mb)\n",
    "- PLINK: Chromosome, Cumulative Map(cM), Position\n",
    "\n",
    "Recombination rate starts at 0 at the first measured SNP position, instead of starting at the first chromosome position. <br>\n",
    "The current ~/projects/ctb-sgravel/data/genetic_maps contains many maps in Hg37 format. <br>\n",
    "I used the HapMapII map in ~/projects/ctb-sgravel/data/genetic_maps/HapMapII_GRCh38. But transformed it into cumulative Map."
   ]
  },
  {
   "cell_type": "markdown",
   "id": "0c33ad72-636e-46a1-bfc1-8e2a9916c4c6",
   "metadata": {},
   "source": [
    "### Minimal example pipeline: EDAR region in chr2:107,500,000-110,000,000\n",
    "EDAR is an identified sweep in the EAS population."
   ]
  },
  {
   "cell_type": "code",
   "execution_count": null,
   "id": "6e3e46f3-5590-4f6c-9c9b-3b5e3248d691",
   "metadata": {},
   "outputs": [],
   "source": [
    "%%sh\n",
    "chr2_vcf_path='/home/alouette/projects/ctb-sgravel/data/1000G/20201028_CCDG_14151_B01_GRM_WGS_2020-08-05_chr2.recalibrated_variants.vcf.gz'\n",
    "strict_mask_1000G='/home/alouette/projects/ctb-sgravel/data/1000G/masks_and_annotations/20160622.allChr.mask.bed'\n",
    "IntegerT=6\n",
    "module load bcftools\n",
    "### takes 6 min\n",
    "bcftools view -i 'FILTER==\"PASS\"' -Oz -m2 -M2 -v snps -r chr2:107500000-110000000 ${chr2_vcf_path} --threads ${IntegerT} -o \"chr2.EDAR_region.vcf.gz\"\n",
    "bcftools index --threads ${IntegerT} \"chr2.EDAR_region.vcf.gz\"\n",
    "### takes 3 min\n",
    "bcftools view -Oz -R ${strict_mask_1000G} \"chr2.EDAR_region.vcf.gz\" --threads ${IntegerT} -o \"chr2.EDAR_region.strict_mask.vcf.gz\""
   ]
  },
  {
   "cell_type": "code",
   "execution_count": 2,
   "id": "48822fc5-2e63-4d9a-8f8f-ec670a0373e0",
   "metadata": {},
   "outputs": [],
   "source": [
    "def read_vcf(vcf_path:str) -> dict: \n",
    "    \"\"\"\n",
    "    Read in the VCF using scikit-allel, the genotype information is stored in a dict\n",
    "    Optimization: could limit the fields read in, can also specify detailed format like float32\n",
    "    \"\"\"\n",
    "    callset = allel.read_vcf(vcf_path)\n",
    "    return callset"
   ]
  },
  {
   "cell_type": "code",
   "execution_count": 3,
   "id": "723b5160-465f-4006-9709-fe6ff03f9d27",
   "metadata": {},
   "outputs": [],
   "source": [
    "vcf_path = \"chr2.EDAR_region.strict_mask.vcf.gz\"\n",
    "EDAR_callset = read_vcf(vcf_path)"
   ]
  },
  {
   "cell_type": "code",
   "execution_count": 4,
   "id": "39fa0af3-8ba1-4dd4-8111-def0788bc2d3",
   "metadata": {},
   "outputs": [
    {
     "data": {
      "text/plain": [
       "{'samples': array(['HG00096', 'HG00097', 'HG00099', ..., 'NA21142', 'NA21143',\n",
       "        'NA21144'], dtype=object),\n",
       " 'calldata/GT': array([[[0, 0],\n",
       "         [0, 0],\n",
       "         [0, 0],\n",
       "         ...,\n",
       "         [0, 0],\n",
       "         [0, 0],\n",
       "         [0, 0]],\n",
       " \n",
       "        [[0, 0],\n",
       "         [0, 0],\n",
       "         [0, 0],\n",
       "         ...,\n",
       "         [0, 0],\n",
       "         [0, 0],\n",
       "         [0, 0]],\n",
       " \n",
       "        [[0, 0],\n",
       "         [0, 0],\n",
       "         [0, 0],\n",
       "         ...,\n",
       "         [0, 0],\n",
       "         [0, 0],\n",
       "         [0, 0]],\n",
       " \n",
       "        ...,\n",
       " \n",
       "        [[0, 0],\n",
       "         [0, 0],\n",
       "         [0, 0],\n",
       "         ...,\n",
       "         [0, 0],\n",
       "         [0, 0],\n",
       "         [0, 0]],\n",
       " \n",
       "        [[0, 0],\n",
       "         [0, 0],\n",
       "         [0, 0],\n",
       "         ...,\n",
       "         [0, 0],\n",
       "         [0, 0],\n",
       "         [0, 0]],\n",
       " \n",
       "        [[0, 0],\n",
       "         [0, 0],\n",
       "         [0, 0],\n",
       "         ...,\n",
       "         [0, 0],\n",
       "         [0, 0],\n",
       "         [0, 0]]], dtype=int8),\n",
       " 'variants/ALT': array([['G', '', ''],\n",
       "        ['T', '', ''],\n",
       "        ['T', '', ''],\n",
       "        ...,\n",
       "        ['A', '', ''],\n",
       "        ['C', '', ''],\n",
       "        ['G', '', '']], dtype=object),\n",
       " 'variants/CHROM': array(['chr2', 'chr2', 'chr2', ..., 'chr2', 'chr2', 'chr2'], dtype=object),\n",
       " 'variants/FILTER_PASS': array([ True,  True,  True, ...,  True,  True,  True]),\n",
       " 'variants/ID': array(['.', '.', '.', ..., '.', '.', '.'], dtype=object),\n",
       " 'variants/POS': array([107500027, 107500073, 107500170, ..., 109736849, 109742841,\n",
       "        109743205], dtype=int32),\n",
       " 'variants/QUAL': array([  781.65,  1768.47,   398.69, ...,   485.69, 27346.8 ,  1404.62],\n",
       "       dtype=float32),\n",
       " 'variants/REF': array(['A', 'G', 'C', ..., 'T', 'T', 'A'], dtype=object)}"
      ]
     },
     "execution_count": 4,
     "metadata": {},
     "output_type": "execute_result"
    }
   ],
   "source": [
    "EDAR_callset"
   ]
  },
  {
   "cell_type": "code",
   "execution_count": 6,
   "id": "114ff70e-9e5c-44e2-9fa5-13be54995a43",
   "metadata": {},
   "outputs": [],
   "source": [
    "def msprime_read_HapMap(rec_map_path: str) -> pd.DataFrame:\n",
    "    \"\"\"\n",
    "    Require msprime >= 1.0.0\n",
    "    Read the recombination map using msprime functionality.\n",
    "    Can uses the functionality: get_cumulative_mass(), find_index()\n",
    "    Column 1-2, positions; left: inclusive, right: exclusive\n",
    "    \"\"\"\n",
    "    ms_RateMap = ms.RateMap.read_hapmap(rec_map_path, position_col=1, rate_col=2)\n",
    "    return ms_RateMap"
   ]
  },
  {
   "cell_type": "code",
   "execution_count": 60,
   "id": "d5ff3fa7-15ba-44f9-bd04-aef0b5e3143b",
   "metadata": {},
   "outputs": [],
   "source": [
    "def windowing(pos_index_list: list) -> list:\n",
    "    \"\"\"\n",
    "    Master window function, based on the index list, give back a list of slice as windows that can be directly used with scikit_allel SNP_array.\n",
    "    This function is the core function and used for other detailed window_by_* functions.\n",
    "    Handles missing values, bins without any SNPs here\n",
    "    :param pos_index_list: The list of position index corresponding to the starting index of each bin\n",
    "    Return a list of slices\n",
    "    \"\"\"\n",
    "    if np.all(pos_index_list == 0):\n",
    "        raise ValueError(\"Bin position indices are all 0\")\n",
    "    window_list = []\n",
    "    for start_index, end_index in zip(pos_index_list[:-1], pos_index_list[1:]):\n",
    "        if start_index == end_index:\n",
    "            ### recombination hotspot can result in no SNPs in the slice\n",
    "            window_list.append(slice(None, -0))\n",
    "            continue\n",
    "        window_list.append(slice(start_index, end_index))\n",
    "    ### next step requires loading the data, do it when in need\n",
    "    return window_list"
   ]
  },
  {
   "cell_type": "code",
   "execution_count": 51,
   "id": "095a3d8b-7cdb-45f4-a844-72f8873d0a85",
   "metadata": {},
   "outputs": [],
   "source": [
    "def window_by_reombination(pos_array: list, rec_map: ms.RateMap, rec_start: float, rec_end: float, rec_step = 0.04) -> list:\n",
    "    \"\"\"\n",
    "    Require msprime >= 1.0.0 to use RateMap\n",
    "    Call this function to get the window list separated by rec_distance\n",
    "    How to handle the last position if rec subsetting is not possible?\n",
    "    \"\"\"\n",
    "    ### end has to be larger than start\n",
    "    if rec_start >= rec_end:\n",
    "        raise ValueError(\"Input recombination range is invalid\")\n",
    "    ### checking if the rec_start and rec_end are contained in the given pos_array\n",
    "    ### convert all positions to cumulative mass in cM from the rate map\n",
    "    cum_rec_mass = rec_map.get_cumulative_mass(pos_array)* 100\n",
    "    if (rec_start < np.nanmin(cum_rec_mass)) or (rec_end > np.nanmax(cum_rec_mass)):\n",
    "        raise ValueError(\"Input recombiantion range is out of range\")\n",
    "    ### if given rec distance is smaller or equal to the the step \n",
    "    ### return the original array without subsetting\n",
    "    if rec_end - rec_start <= rec_step:\n",
    "        rec_list = [rec_start, rec_end]                    \n",
    "    else:\n",
    "        rec_list = np.arange(start = rec_start, stop = rec_end, step = rec_step)\n",
    "        ### check the last position\n",
    "        ### floating point issue, the last position can be larger than end\n",
    "        if rec_list[-1] > rec_end:\n",
    "            rec_list[-1] = rec_end\n",
    "    ### get corresponding position index\n",
    "    ### currently missing values are not considered\n",
    "    pos_index_list = [np.searchsorted(cum_rec_mass, rec, side = \"left\") for rec in rec_list]\n",
    "    ### incorporate _windowing function to create slice, and also to handle missing values later\n",
    "    window_list = _windowing(pos_index_list)\n",
    "    return window_list\n",
    "    \n",
    "    "
   ]
  },
  {
   "cell_type": "code",
   "execution_count": 6,
   "id": "52fdff79-e306-4603-ab20-b15aed7a5f4b",
   "metadata": {},
   "outputs": [],
   "source": [
    "pos_array = EDAR_callset['variants/POS']\n",
    "snp_array = EDAR_callset['calldata/GT']\n",
    "rec_map_path = \"/home/alouette/projects/ctb-sgravel/data/genetic_maps/HapMapII_GRCh38/genetic_map_Hg38_chr2.txt\"\n",
    "ms_RateMap = msprime_read_HapMap(rec_map_path)\n",
    "rec_start = ms_RateMap.get_cumulative_mass(pos_array[0])*100\n",
    "rec_end = ms_RateMap.get_cumulative_mass(pos_array[-1])*100\n",
    "rec_step = 0.04\n",
    "window_list = window_by_reombination(pos_array, ms_RateMap, rec_start, rec_end, 0.04)"
   ]
  },
  {
   "cell_type": "code",
   "execution_count": 13,
   "id": "9270ad5f-9cf5-4671-85a8-c127503a1fef",
   "metadata": {},
   "outputs": [
    {
     "data": {
      "text/html": [
       "<div>\n",
       "<style scoped>\n",
       "    .dataframe tbody tr th:only-of-type {\n",
       "        vertical-align: middle;\n",
       "    }\n",
       "\n",
       "    .dataframe tbody tr th {\n",
       "        vertical-align: top;\n",
       "    }\n",
       "\n",
       "    .dataframe thead th {\n",
       "        text-align: right;\n",
       "    }\n",
       "</style>\n",
       "<table border=\"1\" class=\"dataframe\">\n",
       "  <thead>\n",
       "    <tr style=\"text-align: right;\">\n",
       "      <th></th>\n",
       "      <th>FamilyID</th>\n",
       "      <th>SampleID</th>\n",
       "      <th>FatherID</th>\n",
       "      <th>MotherID</th>\n",
       "      <th>Sex</th>\n",
       "      <th>Population</th>\n",
       "      <th>Superpopulation</th>\n",
       "      <th>callset_index</th>\n",
       "    </tr>\n",
       "  </thead>\n",
       "  <tbody>\n",
       "    <tr>\n",
       "      <th>0</th>\n",
       "      <td>HG00096</td>\n",
       "      <td>HG00096</td>\n",
       "      <td>0</td>\n",
       "      <td>0</td>\n",
       "      <td>1</td>\n",
       "      <td>GBR</td>\n",
       "      <td>EUR</td>\n",
       "      <td>0</td>\n",
       "    </tr>\n",
       "    <tr>\n",
       "      <th>1</th>\n",
       "      <td>HG00097</td>\n",
       "      <td>HG00097</td>\n",
       "      <td>0</td>\n",
       "      <td>0</td>\n",
       "      <td>2</td>\n",
       "      <td>GBR</td>\n",
       "      <td>EUR</td>\n",
       "      <td>1</td>\n",
       "    </tr>\n",
       "    <tr>\n",
       "      <th>2</th>\n",
       "      <td>HG00099</td>\n",
       "      <td>HG00099</td>\n",
       "      <td>0</td>\n",
       "      <td>0</td>\n",
       "      <td>2</td>\n",
       "      <td>GBR</td>\n",
       "      <td>EUR</td>\n",
       "      <td>2</td>\n",
       "    </tr>\n",
       "    <tr>\n",
       "      <th>3</th>\n",
       "      <td>HG00100</td>\n",
       "      <td>HG00100</td>\n",
       "      <td>0</td>\n",
       "      <td>0</td>\n",
       "      <td>2</td>\n",
       "      <td>GBR</td>\n",
       "      <td>EUR</td>\n",
       "      <td>3</td>\n",
       "    </tr>\n",
       "    <tr>\n",
       "      <th>4</th>\n",
       "      <td>HG00101</td>\n",
       "      <td>HG00101</td>\n",
       "      <td>0</td>\n",
       "      <td>0</td>\n",
       "      <td>1</td>\n",
       "      <td>GBR</td>\n",
       "      <td>EUR</td>\n",
       "      <td>4</td>\n",
       "    </tr>\n",
       "    <tr>\n",
       "      <th>...</th>\n",
       "      <td>...</td>\n",
       "      <td>...</td>\n",
       "      <td>...</td>\n",
       "      <td>...</td>\n",
       "      <td>...</td>\n",
       "      <td>...</td>\n",
       "      <td>...</td>\n",
       "      <td>...</td>\n",
       "    </tr>\n",
       "    <tr>\n",
       "      <th>3197</th>\n",
       "      <td>NA21137</td>\n",
       "      <td>NA21137</td>\n",
       "      <td>0</td>\n",
       "      <td>0</td>\n",
       "      <td>2</td>\n",
       "      <td>GIH</td>\n",
       "      <td>SAS</td>\n",
       "      <td>3197</td>\n",
       "    </tr>\n",
       "    <tr>\n",
       "      <th>3198</th>\n",
       "      <td>NA21141</td>\n",
       "      <td>NA21141</td>\n",
       "      <td>0</td>\n",
       "      <td>0</td>\n",
       "      <td>2</td>\n",
       "      <td>GIH</td>\n",
       "      <td>SAS</td>\n",
       "      <td>3198</td>\n",
       "    </tr>\n",
       "    <tr>\n",
       "      <th>3199</th>\n",
       "      <td>NA21142</td>\n",
       "      <td>NA21142</td>\n",
       "      <td>0</td>\n",
       "      <td>0</td>\n",
       "      <td>2</td>\n",
       "      <td>GIH</td>\n",
       "      <td>SAS</td>\n",
       "      <td>3199</td>\n",
       "    </tr>\n",
       "    <tr>\n",
       "      <th>3200</th>\n",
       "      <td>NA21143</td>\n",
       "      <td>NA21143</td>\n",
       "      <td>0</td>\n",
       "      <td>0</td>\n",
       "      <td>2</td>\n",
       "      <td>GIH</td>\n",
       "      <td>SAS</td>\n",
       "      <td>3200</td>\n",
       "    </tr>\n",
       "    <tr>\n",
       "      <th>3201</th>\n",
       "      <td>NA21144</td>\n",
       "      <td>NA21144</td>\n",
       "      <td>0</td>\n",
       "      <td>0</td>\n",
       "      <td>2</td>\n",
       "      <td>GIH</td>\n",
       "      <td>SAS</td>\n",
       "      <td>3201</td>\n",
       "    </tr>\n",
       "  </tbody>\n",
       "</table>\n",
       "<p>3202 rows × 8 columns</p>\n",
       "</div>"
      ],
      "text/plain": [
       "     FamilyID SampleID FatherID MotherID  Sex Population Superpopulation  \\\n",
       "0     HG00096  HG00096        0        0    1        GBR             EUR   \n",
       "1     HG00097  HG00097        0        0    2        GBR             EUR   \n",
       "2     HG00099  HG00099        0        0    2        GBR             EUR   \n",
       "3     HG00100  HG00100        0        0    2        GBR             EUR   \n",
       "4     HG00101  HG00101        0        0    1        GBR             EUR   \n",
       "...       ...      ...      ...      ...  ...        ...             ...   \n",
       "3197  NA21137  NA21137        0        0    2        GIH             SAS   \n",
       "3198  NA21141  NA21141        0        0    2        GIH             SAS   \n",
       "3199  NA21142  NA21142        0        0    2        GIH             SAS   \n",
       "3200  NA21143  NA21143        0        0    2        GIH             SAS   \n",
       "3201  NA21144  NA21144        0        0    2        GIH             SAS   \n",
       "\n",
       "      callset_index  \n",
       "0                 0  \n",
       "1                 1  \n",
       "2                 2  \n",
       "3                 3  \n",
       "4                 4  \n",
       "...             ...  \n",
       "3197           3197  \n",
       "3198           3198  \n",
       "3199           3199  \n",
       "3200           3200  \n",
       "3201           3201  \n",
       "\n",
       "[3202 rows x 8 columns]"
      ]
     },
     "execution_count": 13,
     "metadata": {},
     "output_type": "execute_result"
    }
   ],
   "source": [
    "panel_path = \"/home/alouette/projects/ctb-sgravel/alouette/1000Genome/20130606_g1k_3202_samples_ped_population.txt\"\n",
    "panel = read_panel(panel_path)\n",
    "panel = add_callset_index(panel, EDAR_callset['samples'])\n",
    "panel"
   ]
  },
  {
   "cell_type": "code",
   "execution_count": 127,
   "id": "30c9f59c-638b-4146-a10d-240baac17f4d",
   "metadata": {},
   "outputs": [
    {
     "data": {
      "text/plain": [
       "array([ 48.32134167,  63.60503777, 105.63581773, 192.38169577])"
      ]
     },
     "execution_count": 127,
     "metadata": {},
     "output_type": "execute_result"
    }
   ],
   "source": [
    "snp_window_H = allel.heterozygosity_observed(snp_window)\n",
    "np.sum(snp_window_LD, axis = 1)"
   ]
  },
  {
   "cell_type": "code",
   "execution_count": 153,
   "id": "d0a2a2e1-dd4b-409a-ab3e-ff6af6b2fbe3",
   "metadata": {},
   "outputs": [],
   "source": [
    "ALL_LD_list = LD_list"
   ]
  },
  {
   "cell_type": "code",
   "execution_count": 18,
   "id": "212feba6-96ad-4c4d-9ad0-9753612ba4ac",
   "metadata": {},
   "outputs": [],
   "source": [
    "AFR_LD_list = []\n",
    "EUR_LD_list = []\n",
    "EAS_LD_list = []\n",
    "ALL_LD_list = []\n",
    "for window in window_list:\n",
    "    for LD_list, super_pop in zip([AFR_LD_list, EUR_LD_list, EAS_LD_list, ALL_LD_list], [\"AFR\", \"EUR\", \"EAS\", \"\"]):\n",
    "        snp_array_pop = select_by_super_population(panel, snp_array, super_pop)\n",
    "        snp_window = allel.GenotypeArray(snp_array_pop[window])\n",
    "        snp_window_012 = snp_window.to_n_alt(fill=-1)\n",
    "        snp_window_LD = moments.LD.Parsing.compute_pairwise_stats(snp_window_012, genotypes = True)\n",
    "        LD_list.append(np.sum(snp_window_LD, axis = 1))"
   ]
  },
  {
   "cell_type": "code",
   "execution_count": 37,
   "id": "827a5d6c-53d5-480a-9b9c-d75e934cfc12",
   "metadata": {},
   "outputs": [],
   "source": [
    "ALL_H = allel.heterozygosity_observed(select_by_super_population(panel, snp_array, \"\"), fill = -1)\n",
    "EUR_H = allel.heterozygosity_observed(select_by_super_population(panel, snp_array, \"EUR\"), fill = -1)\n",
    "EAS_H = allel.heterozygosity_observed(select_by_super_population(panel, snp_array, \"EAS\"), fill = -1)\n",
    "AFR_H = allel.heterozygosity_observed(select_by_super_population(panel, snp_array, \"AFR\"), fill = -1)"
   ]
  },
  {
   "cell_type": "code",
   "execution_count": 31,
   "id": "3ae545a0-d0d9-46b8-9fe0-bd4c74c69c6b",
   "metadata": {},
   "outputs": [],
   "source": [
    "def LD_dataframe(LD_list: list, pos_array: list, window_list: list) -> pd.DataFrame:\n",
    "    df = pd.DataFrame({\"pos_start\": [pos_array[window][0] for window in window_list], \n",
    "                      \"pos_end\": [pos_array[window][-1] for window in window_list],\n",
    "                      \"D2_sum\": np.array(LD_list)[:, 0],\n",
    "                      \"Dz_sum\": np.array(LD_list)[:, 1],\n",
    "                      \"Pi2_sum\": np.array(LD_list)[:, 2],\n",
    "                      \"D_sum\": np.array(LD_list)[:, 3]})\n",
    "    df[\"sigD2\"] = df.D2_sum/df.Pi2_sum\n",
    "    df[\"sigDz\"] = df.Dz_sum/df.Pi2_sum\n",
    "    return df"
   ]
  },
  {
   "cell_type": "code",
   "execution_count": 32,
   "id": "b8be5a37-2c52-4213-9ad1-a26f3701c401",
   "metadata": {},
   "outputs": [],
   "source": [
    "ALL_df = LD_dataframe(ALL_LD_list, pos_array, window_list)\n",
    "AFR_df = LD_dataframe(AFR_LD_list, pos_array, window_list)\n",
    "EUR_df = LD_dataframe(EUR_LD_list, pos_array, window_list)\n",
    "EAS_df = LD_dataframe(EAS_LD_list, pos_array, window_list)"
   ]
  },
  {
   "cell_type": "code",
   "execution_count": 56,
   "id": "5df11a4e-8c1b-4095-8090-ef671b750adb",
   "metadata": {},
   "outputs": [
    {
     "data": {
      "image/png": "[encoded data removed]",
      "text/plain": [
       "<Figure size 1000x600 with 8 Axes>"
      ]
     },
     "metadata": {},
     "output_type": "display_data"
    }
   ],
   "source": [
    "fig, axes = plt.subplots(2, 2, figsize = (10,6))\n",
    "for df, H, label, ax in zip([ALL_df, AFR_df, EUR_df, EAS_df], [ALL_H, AFR_H, EUR_H, EAS_H], [\"ALL\", \"AFR\", \"EUR\", \"EAS\"], axes.reshape(-1)):\n",
    "    ax.plot((df.pos_start + df.pos_end)/2, df.sigDz)\n",
    "    ax.set_xlabel(label)\n",
    "    ax2 = ax.twinx()\n",
    "    ax2.plot(pos_array, H, c = \"grey\", alpha = 0.5)\n",
    "    ax2.set_ylim(0, 1)\n",
    "    ax2.tick_params(axis='y')\n",
    "    ax2.set_ylabel(r'Observed heterozygosity')\n",
    "    ax.set_ylim(-2, 15)\n",
    "    ax.set_ylabel(r'$D_z$')\n",
    "plt.tight_layout()"
   ]
  },
  {
   "cell_type": "code",
   "execution_count": null,
   "id": "9663df83-fbc4-411a-bc62-cc63d9bb8a71",
   "metadata": {},
   "outputs": [],
   "source": [
    "def plot_stats(df, ax, chr, xStart, xEnd, xCol1 = \"start\", xCol2 = \"end\", stat1 = \"sigDz_percentile\", plotPi = False, \n",
    "               Pi = \"Pi\", snpPos = None, bpRange = 1e5, cMRange = 10, stat1_color = \"m\", Pi_color = \"black\", shrink = 1e6, fill = False,\n",
    "              showRange = None, threshold = 10, cM_spacing = 5):\n",
    "    plotDf = subset_df(df, chr, xStart, xEnd, bpRange, cMRange)\n",
    "    #ax.axvspan(xStart, xEnd, alpha=0.5, fill=False, linestyle='--', color = \"blue\")\n",
    "    ax.axvspan(snpPos, snpPos, alpha=0.5, fill=False, linestyle='--', color = \"red\")\n",
    "    ax.set_xlabel('Genome position (MB)')\n",
    "    if plotPi:\n",
    "        ax2 = ax.twinx()\n",
    "        ax2.plot(plotDf[xCol1], plotDf[Pi], c = Pi_color, alpha = 0.5)\n",
    "        ax2.set_ylim(0, 0.008)\n",
    "        ax2.tick_params(axis='y')\n",
    "        ax2.set_ylabel(r'$\\pi$')\n",
    "    for index, row in plotDf.iterrows():\n",
    "        if row[\"totalSNP\"] < threshold:\n",
    "            continue\n",
    "        ax.plot([row[xCol1], row[xCol2]],[row[stat1]]*2, c = stat1_color, linewidth=2)\n",
    "        if fill:\n",
    "            ax.fill_between([row[xCol1], row[xCol2]],[row[stat1]]*2, facecolor = stat1_color, alpha = 0.2)\n",
    "    ax_cM = ax.twiny()\n",
    "    ax_cM.set_xlim(ax.get_xlim())\n",
    "    ax_cM.set_xticks(plotDf.start)\n",
    "    cM_label = plotDf.startCM.tolist()\n",
    "    #cM_label[1:-1] = [None]*len(cM_label[1:-1])\n",
    "    cM_label_new =[x if i%cM_spacing ==0 else None for i,x in enumerate(cM_label)]\n",
    "    ax_cM.set_xticklabels(cM_label_new)\n",
    "    ### {0:g} without trailing zero\n",
    "    ticks_x = ticker.FuncFormatter(lambda x, pos: '{0:g}'.format(x/shrink))\n",
    "    ax.xaxis.set_major_formatter(ticks_x)\n",
    "    ax.set_ylim(0, 1)\n",
    "    ax_cM.set_xlabel(\"Rec distance (cM)\", loc='right')\n",
    "    if showRange is not None:\n",
    "        ax.set_xlim(showRange)\n",
    "        ax_cM.set_xlim(ax.get_xlim())"
   ]
  },
  {
   "cell_type": "code",
   "execution_count": 142,
   "id": "946af9d7-cfdc-4a3e-8694-bf162789a9c1",
   "metadata": {},
   "outputs": [],
   "source": [
    "def add_callset_index(panel: pd.DataFrame, callset_sample: list):\n",
    "    samples_list = list(callset_sample)\n",
    "    samples_callset_index = [samples_list.index(s) for s in panel.SampleID]\n",
    "    panel['callset_index'] = samples_callset_index\n",
    "    return panel\n"
   ]
  },
  {
   "cell_type": "code",
   "execution_count": 139,
   "id": "9504e3c9-f06e-4b67-aa5a-8933b63fd66a",
   "metadata": {},
   "outputs": [],
   "source": [
    "def read_panel(panel_path:str) -> pd.DataFrame:\n",
    "    panel = pd.read_csv(panel_path, sep=' ')\n",
    "    return panel"
   ]
  },
  {
   "cell_type": "code",
   "execution_count": 16,
   "id": "589814c2-1a04-41f2-9279-66a6e1240405",
   "metadata": {},
   "outputs": [],
   "source": [
    "def select_by_super_population(panel: pd.DataFrame, snp_array: list, super_population :str) -> list:\n",
    "    \"\"\"\n",
    "    This will not affect the snp index position\n",
    "    \"\"\"\n",
    "    if len(super_population) == 0:\n",
    "        return allel.GenotypeArray(snp_array)\n",
    "    loc_sample = panel[panel.Superpopulation == super_population].callset_index.values\n",
    "    return snp_array.take(loc_sample, axis=1)"
   ]
  },
  {
   "cell_type": "code",
   "execution_count": 148,
   "id": "faae4554-6e82-40cb-ae44-2f44aa77c8c2",
   "metadata": {},
   "outputs": [
    {
     "data": {
      "text/html": [
       "<div class=\"allel allel-DisplayAs2D\"><span>&lt;GenotypeArray shape=(58860, 633, 2) dtype=int8&gt;</span><table><thead><tr><th></th><th style=\"text-align: center\">0</th><th style=\"text-align: center\">1</th><th style=\"text-align: center\">2</th><th style=\"text-align: center\">3</th><th style=\"text-align: center\">4</th><th style=\"text-align: center\">...</th><th style=\"text-align: center\">628</th><th style=\"text-align: center\">629</th><th style=\"text-align: center\">630</th><th style=\"text-align: center\">631</th><th style=\"text-align: center\">632</th></tr></thead><tbody><tr><th style=\"text-align: center; background-color: white; border-right: 1px solid black; \">0</th><td style=\"text-align: center\">0/0</td><td style=\"text-align: center\">0/0</td><td style=\"text-align: center\">0/0</td><td style=\"text-align: center\">0/0</td><td style=\"text-align: center\">0/0</td><td style=\"text-align: center\">...</td><td style=\"text-align: center\">0/0</td><td style=\"text-align: center\">0/0</td><td style=\"text-align: center\">0/0</td><td style=\"text-align: center\">0/0</td><td style=\"text-align: center\">0/0</td></tr><tr><th style=\"text-align: center; background-color: white; border-right: 1px solid black; \">1</th><td style=\"text-align: center\">0/0</td><td style=\"text-align: center\">0/0</td><td style=\"text-align: center\">0/0</td><td style=\"text-align: center\">0/0</td><td style=\"text-align: center\">0/0</td><td style=\"text-align: center\">...</td><td style=\"text-align: center\">0/0</td><td style=\"text-align: center\">0/0</td><td style=\"text-align: center\">0/0</td><td style=\"text-align: center\">0/0</td><td style=\"text-align: center\">0/0</td></tr><tr><th style=\"text-align: center; background-color: white; border-right: 1px solid black; \">2</th><td style=\"text-align: center\">0/0</td><td style=\"text-align: center\">0/0</td><td style=\"text-align: center\">0/0</td><td style=\"text-align: center\">0/0</td><td style=\"text-align: center\">0/0</td><td style=\"text-align: center\">...</td><td style=\"text-align: center\">0/0</td><td style=\"text-align: center\">0/0</td><td style=\"text-align: center\">0/0</td><td style=\"text-align: center\">0/0</td><td style=\"text-align: center\">0/0</td></tr><tr><th style=\"text-align: center; background-color: white; border-right: 1px solid black; \">...</th><td style=\"text-align: center\" colspan=\"12\">...</td></tr><tr><th style=\"text-align: center; background-color: white; border-right: 1px solid black; \">58857</th><td style=\"text-align: center\">0/0</td><td style=\"text-align: center\">0/0</td><td style=\"text-align: center\">0/0</td><td style=\"text-align: center\">0/0</td><td style=\"text-align: center\">0/0</td><td style=\"text-align: center\">...</td><td style=\"text-align: center\">0/0</td><td style=\"text-align: center\">0/0</td><td style=\"text-align: center\">0/0</td><td style=\"text-align: center\">0/0</td><td style=\"text-align: center\">0/0</td></tr><tr><th style=\"text-align: center; background-color: white; border-right: 1px solid black; \">58858</th><td style=\"text-align: center\">0/0</td><td style=\"text-align: center\">0/0</td><td style=\"text-align: center\">0/0</td><td style=\"text-align: center\">0/0</td><td style=\"text-align: center\">0/0</td><td style=\"text-align: center\">...</td><td style=\"text-align: center\">0/0</td><td style=\"text-align: center\">0/0</td><td style=\"text-align: center\">0/0</td><td style=\"text-align: center\">0/0</td><td style=\"text-align: center\">0/0</td></tr><tr><th style=\"text-align: center; background-color: white; border-right: 1px solid black; \">58859</th><td style=\"text-align: center\">0/0</td><td style=\"text-align: center\">0/0</td><td style=\"text-align: center\">0/0</td><td style=\"text-align: center\">0/0</td><td style=\"text-align: center\">0/0</td><td style=\"text-align: center\">...</td><td style=\"text-align: center\">0/0</td><td style=\"text-align: center\">0/0</td><td style=\"text-align: center\">0/0</td><td style=\"text-align: center\">0/0</td><td style=\"text-align: center\">0/0</td></tr></tbody></table></div>"
      ],
      "text/plain": [
       "<GenotypeArray shape=(58860, 633, 2) dtype=int8>\n",
       "0/0 0/0 0/0 0/0 0/0 ... 0/0 0/0 0/0 0/0 0/0\n",
       "0/0 0/0 0/0 0/0 0/0 ... 0/0 0/0 0/0 0/0 0/0\n",
       "0/0 0/0 0/0 0/0 0/0 ... 0/0 0/0 0/0 0/0 0/0\n",
       "...\n",
       "0/0 0/0 0/0 0/0 0/0 ... 0/0 0/0 0/0 0/0 0/0\n",
       "0/0 0/0 0/0 0/0 0/0 ... 0/0 0/0 0/0 0/0 0/0\n",
       "0/0 0/0 0/0 0/0 0/0 ... 0/0 0/0 0/0 0/0 0/0"
      ]
     },
     "execution_count": 148,
     "metadata": {},
     "output_type": "execute_result"
    }
   ],
   "source": [
    "select_by_super_population(panel, snp_array, \"EUR\")"
   ]
  }
 ],
 "metadata": {
  "kernelspec": {
   "display_name": "Dz_moments_kernel",
   "language": "python",
   "name": "dz_moments"
  },
  "language_info": {
   "codemirror_mode": {
    "name": "ipython",
    "version": 3
   },
   "file_extension": ".py",
   "mimetype": "text/x-python",
   "name": "python",
   "nbconvert_exporter": "python",
   "pygments_lexer": "ipython3",
   "version": "3.9.6"
  }
 },
 "nbformat": 4,
 "nbformat_minor": 5
}

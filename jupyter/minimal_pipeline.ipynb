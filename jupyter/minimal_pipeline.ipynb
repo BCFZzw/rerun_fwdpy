{
 "cells": [
  {
   "cell_type": "code",
   "execution_count": 1,
   "id": "b6507bdb-3d0f-45de-a47a-8d1f3717e76a",
   "metadata": {},
   "outputs": [],
   "source": [
    "import pandas as pd\n",
    "import numpy as np\n",
    "import allel\n",
    "import moments.LD"
   ]
  },
  {
   "cell_type": "markdown",
   "id": "6a238ae4-ae59-46a7-9097-ac7b28866b37",
   "metadata": {
    "tags": []
   },
   "source": [
    "### Preprocessing of 1000G VCF files\n",
    "1. Apply strict mask\n",
    "    - Some sites are not reliably mapped in hg38 and need to be excluded.\n",
    "    - These regions include: repeat regions, pseudogenes, centromeric, and telomeric regions.\n",
    "2. Select only biallelic SNP sites\n",
    "    - A VCF can contain mult-allelic SNPs and structure variants (indels, tandem repeats, etc)\n",
    "    - The biallelic SNP sites are the easiest to work with, and most studies focus on them. \n",
    "\n",
    "\n",
    "\n",
    "This process can take quite a long time, I saved the processed VCFs under ~/projects/ctb-sgravel/data/30x1000G_biallelic_strict_masked <br>\n",
    "The example preprocessing script is provided below and also in the directory's README.md."
   ]
  },
  {
   "cell_type": "code",
   "execution_count": null,
   "id": "fabc073e-9fcf-454f-b7fa-beae6df4e553",
   "metadata": {},
   "outputs": [],
   "source": [
    "%%sh\n",
    "### in bash, preprocess using bcftools\n",
    "### replace variable path\n",
    "chr22_vcf_path='/home/alouette/projects/ctb-sgravel/data/1000G/20201028_CCDG_14151_B01_GRM_WGS_2020-08-05_chr22.recalibrated_variants.vcf.gz'\n",
    "strict_mask_1000G='/home/alouette/projects/ctb-sgravel/data/1000G/masks_and_annotations/20160622.allChr.mask.bed'\n",
    "IntegerT=6\n",
    "module load bcftools\n",
    "bcftools --version | head -1\n",
    "### -Oz output compressed VCF format\n",
    "### -m2 -M2 -v to only view biallellic SNPs\n",
    "### -R subset VCF from region bed file\n",
    "### --threads parallelization currently only works for compression\n",
    "bcftools view -i 'FILTER==\"PASS\"' -Oz -m2 -M2 -v snps -R ${strict_mask_1000G} ${chr22_vcf_path} --threads ${IntegerT} -o \"chr22.strict_masked.vcf.gz\""
   ]
  },
  {
   "cell_type": "markdown",
   "id": "2dcbc011-e194-4fcd-bdc7-9927a96b14c9",
   "metadata": {},
   "source": [
    "bcftools manual: http://samtools.github.io/bcftools/bcftools.html#expressions"
   ]
  },
  {
   "cell_type": "markdown",
   "id": "48adfd5e-cff0-4e8f-a1c4-aae77d6211c0",
   "metadata": {
    "tags": []
   },
   "source": [
    "### Optional: covert the VCF to zarr format for faster retrieval in scikit-allele\n",
    "In sgkit, there might be better approaches. <br>\n",
    "I also completed this step and stored the output in ~/projects/ctb-sgravel/data/30x1000G_biallelic_strict_masked/zarrFormat"
   ]
  },
  {
   "cell_type": "markdown",
   "id": "95655f44-4122-4ce3-9002-624dd19d5e6b",
   "metadata": {},
   "source": [
    "### Population information retrieval\n",
    "1000G stored its population information in a txt file: ~/projects/ctb-sgravel/data/1000G/population_info/20130606_g1k_3202_samples_ped_population.txt <br>\n",
    "This file includes family ID, sample ID, parent ID, sex, population, superpopulation. <br>\n",
    "There are some family trio in 1000G data. I currently exclude the individuals information if any of their parents are also in 1000G. <br>\n"
   ]
  },
  {
   "cell_type": "markdown",
   "id": "69f0f1a0-dede-4454-a5c1-dda92d3961e8",
   "metadata": {},
   "source": [
    "### Formatting the recombination map for pipeline\n",
    "Several recombination maps exist for the human population. Each is computed using specific populations and with specific techniques.<br>\n",
    "Two major formats exist: HapMap format and PLINK format. <br>\n",
    "The main difference is how recombination rate is stored:\n",
    "- HapMap: Chromosome, Position(bp), Rate(cM/Mb), Map(cM)\n",
    "- PLINK: Chromosome, Cumulative Map(cM), Position\n",
    "\n",
    "The current ~/projects/ctb-sgravel/data/genetic_maps contains many maps in Hg37 format. <br>\n",
    "I used the HapMapII map in ~/projects/ctb-sgravel/data/genetic_maps/HapMapII_GRCh38."
   ]
  },
  {
   "cell_type": "markdown",
   "id": "0c33ad72-636e-46a1-bfc1-8e2a9916c4c6",
   "metadata": {},
   "source": [
    "### Minimal example pipeline: EDAR region in chr2:107,500,000-110,000,000\n",
    "EDAR is an identified sweep in the EAS population."
   ]
  },
  {
   "cell_type": "code",
   "execution_count": null,
   "id": "6e3e46f3-5590-4f6c-9c9b-3b5e3248d691",
   "metadata": {},
   "outputs": [],
   "source": [
    "%%sh\n",
    "chr2_vcf_path='/home/alouette/projects/ctb-sgravel/data/1000G/20201028_CCDG_14151_B01_GRM_WGS_2020-08-05_chr2.recalibrated_variants.vcf.gz'\n",
    "strict_mask_1000G='/home/alouette/projects/ctb-sgravel/data/1000G/masks_and_annotations/20160622.allChr.mask.bed'\n",
    "IntegerT=6\n",
    "module load bcftools\n",
    "### takes 6 min\n",
    "bcftools view -i 'FILTER==\"PASS\"' -Oz -m2 -M2 -v snps -r chr2:107500000-110000000 ${chr2_vcf_path} --threads ${IntegerT} -o \"chr2.EDAR_region.vcf.gz\"\n",
    "bcftools index --threads ${IntegerT} \"chr2.EDAR_region.vcf.gz\"\n",
    "### takes 3 min\n",
    "bcftools view -Oz -R ${strict_mask_1000G} \"chr2.EDAR_region.vcf.gz\" --threads ${IntegerT} -o \"chr2.EDAR_region.strict_mask.vcf.gz\""
   ]
  },
  {
   "cell_type": "code",
   "execution_count": 45,
   "id": "48822fc5-2e63-4d9a-8f8f-ec670a0373e0",
   "metadata": {},
   "outputs": [],
   "source": [
    "def read_vcf(vcf_path:str) -> dict: \n",
    "    \"\"\"\n",
    "    Read in the VCF using scikit-allel, the genotype information is stored in a dict\n",
    "    Optimization: could limit the fields read in, can also specify detailed format like float32\n",
    "    \"\"\"\n",
    "    callset = allel.read_vcf(vcf_path)\n",
    "    return callset"
   ]
  },
  {
   "cell_type": "code",
   "execution_count": 42,
   "id": "723b5160-465f-4006-9709-fe6ff03f9d27",
   "metadata": {},
   "outputs": [],
   "source": [
    "vcf_path = \"chr2.EDAR_region.strict_mask.vcf.gz\"\n",
    "EDAR_callset = read_vcf(vcf_path)"
   ]
  },
  {
   "cell_type": "code",
   "execution_count": 43,
   "id": "39fa0af3-8ba1-4dd4-8111-def0788bc2d3",
   "metadata": {},
   "outputs": [
    {
     "data": {
      "text/plain": [
       "{'samples': array(['HG00096', 'HG00097', 'HG00099', ..., 'NA21142', 'NA21143',\n",
       "        'NA21144'], dtype=object),\n",
       " 'calldata/GT': array([[[0, 0],\n",
       "         [0, 0],\n",
       "         [0, 0],\n",
       "         ...,\n",
       "         [0, 0],\n",
       "         [0, 0],\n",
       "         [0, 0]],\n",
       " \n",
       "        [[0, 0],\n",
       "         [0, 0],\n",
       "         [0, 0],\n",
       "         ...,\n",
       "         [0, 0],\n",
       "         [0, 0],\n",
       "         [0, 0]],\n",
       " \n",
       "        [[0, 0],\n",
       "         [0, 0],\n",
       "         [0, 0],\n",
       "         ...,\n",
       "         [0, 0],\n",
       "         [0, 0],\n",
       "         [0, 0]],\n",
       " \n",
       "        ...,\n",
       " \n",
       "        [[0, 0],\n",
       "         [0, 0],\n",
       "         [0, 0],\n",
       "         ...,\n",
       "         [0, 0],\n",
       "         [0, 0],\n",
       "         [0, 0]],\n",
       " \n",
       "        [[0, 0],\n",
       "         [0, 0],\n",
       "         [0, 0],\n",
       "         ...,\n",
       "         [0, 0],\n",
       "         [0, 0],\n",
       "         [0, 0]],\n",
       " \n",
       "        [[0, 0],\n",
       "         [0, 0],\n",
       "         [0, 0],\n",
       "         ...,\n",
       "         [0, 0],\n",
       "         [0, 0],\n",
       "         [0, 0]]], dtype=int8),\n",
       " 'variants/ALT': array([['G', '', ''],\n",
       "        ['T', '', ''],\n",
       "        ['T', '', ''],\n",
       "        ...,\n",
       "        ['A', '', ''],\n",
       "        ['C', '', ''],\n",
       "        ['G', '', '']], dtype=object),\n",
       " 'variants/CHROM': array(['chr2', 'chr2', 'chr2', ..., 'chr2', 'chr2', 'chr2'], dtype=object),\n",
       " 'variants/FILTER_PASS': array([ True,  True,  True, ...,  True,  True,  True]),\n",
       " 'variants/ID': array(['.', '.', '.', ..., '.', '.', '.'], dtype=object),\n",
       " 'variants/POS': array([107500027, 107500073, 107500170, ..., 109736849, 109742841,\n",
       "        109743205], dtype=int32),\n",
       " 'variants/QUAL': array([  781.65,  1768.47,   398.69, ...,   485.69, 27346.8 ,  1404.62],\n",
       "       dtype=float32),\n",
       " 'variants/REF': array(['A', 'G', 'C', ..., 'T', 'T', 'A'], dtype=object)}"
      ]
     },
     "execution_count": 43,
     "metadata": {},
     "output_type": "execute_result"
    }
   ],
   "source": [
    "EDAR_callset"
   ]
  },
  {
   "cell_type": "code",
   "execution_count": 44,
   "id": "c47473f2-096b-4bc6-b7fc-3d4bf9a0b8c2",
   "metadata": {},
   "outputs": [
    {
     "data": {
      "text/plain": [
       "58860"
      ]
     },
     "execution_count": 44,
     "metadata": {},
     "output_type": "execute_result"
    }
   ],
   "source": [
    "len(EDAR_callset['variants/POS'])"
   ]
  },
  {
   "cell_type": "code",
   "execution_count": 46,
   "id": "40cdd9c1-e6d5-4afa-bdd9-81d63946c1be",
   "metadata": {},
   "outputs": [
    {
     "data": {
      "text/plain": [
       "numpy.ndarray"
      ]
     },
     "execution_count": 46,
     "metadata": {},
     "output_type": "execute_result"
    }
   ],
   "source": [
    "type(EDAR_callset['variants/POS'])"
   ]
  },
  {
   "cell_type": "code",
   "execution_count": null,
   "id": "0224c4a0-30f6-4422-8a2c-ff9665f88e81",
   "metadata": {},
   "outputs": [],
   "source": [
    "def read_rec_map(rec_map_path: str, format = \"HapMap\") -> pd.DataFrame:\n",
    "    \"\"\"\n",
    "    Read the recombination map, normalize between different formats.\n",
    "    Return a pd.DataFrame\n",
    "    \"\"\""
   ]
  },
  {
   "cell_type": "code",
   "execution_count": null,
   "id": "9b97f9cf-bcdd-47d2-a51f-e7888f4e626c",
   "metadata": {},
   "outputs": [],
   "source": [
    "def rec_map_interpolate(rec_map_df: pd.DataFrame, chr: str) -> scipy.interpolate:\n",
    "    \"\"\"\n",
    "    @Param: rec_map_df, output of read_rec_map\n",
    "    @Param: chr, a specified chromosome to retrieve the interpolation\n",
    "    For a given chromosome, return the bp to centimorgan convertion function using scipy.interpolate\n",
    "    \"\"\""
   ]
  },
  {
   "cell_type": "code",
   "execution_count": null,
   "id": "aa6d408a-fcb8-4857-a264-515f0a2e8d08",
   "metadata": {},
   "outputs": [],
   "source": [
    "def bp_to_centimorgan(position_array: np.ndarray, rec_map_conversion: scipy.interpolate) -> np.ndarray:\n",
    "    \"\"\"\n",
    "    Return a list of centimorgan map distance corresponding to each position bp distance\n",
    "    \"\"\""
   ]
  }
 ],
 "metadata": {
  "kernelspec": {
   "display_name": "Fwdpy Sweep Kernel",
   "language": "python",
   "name": "sweep"
  },
  "language_info": {
   "codemirror_mode": {
    "name": "ipython",
    "version": 3
   },
   "file_extension": ".py",
   "mimetype": "text/x-python",
   "name": "python",
   "nbconvert_exporter": "python",
   "pygments_lexer": "ipython3",
   "version": "3.8.10"
  }
 },
 "nbformat": 4,
 "nbformat_minor": 5
}
